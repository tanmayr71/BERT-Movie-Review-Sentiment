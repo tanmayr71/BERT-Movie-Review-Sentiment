{
  "nbformat": 4,
  "nbformat_minor": 0,
  "metadata": {
    "kernelspec": {
      "display_name": "Python 3",
      "language": "python",
      "name": "python3"
    },
    "language_info": {
      "codemirror_mode": {
        "name": "ipython",
        "version": 3
      },
      "file_extension": ".py",
      "mimetype": "text/x-python",
      "name": "python",
      "nbconvert_exporter": "python",
      "pygments_lexer": "ipython3",
      "version": "3.8.5"
    },
    "colab": {
      "provenance": []
    },
    "accelerator": "GPU",
    "widgets": {
      "application/vnd.jupyter.widget-state+json": {
        "33610a3b35ac4f57890c72c918075b20": {
          "model_module": "@jupyter-widgets/controls",
          "model_name": "HBoxModel",
          "model_module_version": "1.5.0",
          "state": {
            "_dom_classes": [],
            "_model_module": "@jupyter-widgets/controls",
            "_model_module_version": "1.5.0",
            "_model_name": "HBoxModel",
            "_view_count": null,
            "_view_module": "@jupyter-widgets/controls",
            "_view_module_version": "1.5.0",
            "_view_name": "HBoxView",
            "box_style": "",
            "children": [
              "IPY_MODEL_82762a324a4b43bc893deed0cd6b572e",
              "IPY_MODEL_37b0e2b757134fe39d770f0a0b923f9c",
              "IPY_MODEL_d51af6481a834790a1fad11ae9f544a0"
            ],
            "layout": "IPY_MODEL_3fdce5d721ac46f7be9d8159180d32b0"
          }
        },
        "82762a324a4b43bc893deed0cd6b572e": {
          "model_module": "@jupyter-widgets/controls",
          "model_name": "HTMLModel",
          "model_module_version": "1.5.0",
          "state": {
            "_dom_classes": [],
            "_model_module": "@jupyter-widgets/controls",
            "_model_module_version": "1.5.0",
            "_model_name": "HTMLModel",
            "_view_count": null,
            "_view_module": "@jupyter-widgets/controls",
            "_view_module_version": "1.5.0",
            "_view_name": "HTMLView",
            "description": "",
            "description_tooltip": null,
            "layout": "IPY_MODEL_22e6fe0f9f6e4a0ab2e330b6aaa530d8",
            "placeholder": "​",
            "style": "IPY_MODEL_13d09dbb4f504e15ab0dcd6258c6ab3c",
            "value": "tokenizer_config.json: 100%"
          }
        },
        "37b0e2b757134fe39d770f0a0b923f9c": {
          "model_module": "@jupyter-widgets/controls",
          "model_name": "FloatProgressModel",
          "model_module_version": "1.5.0",
          "state": {
            "_dom_classes": [],
            "_model_module": "@jupyter-widgets/controls",
            "_model_module_version": "1.5.0",
            "_model_name": "FloatProgressModel",
            "_view_count": null,
            "_view_module": "@jupyter-widgets/controls",
            "_view_module_version": "1.5.0",
            "_view_name": "ProgressView",
            "bar_style": "success",
            "description": "",
            "description_tooltip": null,
            "layout": "IPY_MODEL_35b4932a64254a92a69b81e2bbb2bdfd",
            "max": 48,
            "min": 0,
            "orientation": "horizontal",
            "style": "IPY_MODEL_05226d634b8e4ce2b110ba6fd807d780",
            "value": 48
          }
        },
        "d51af6481a834790a1fad11ae9f544a0": {
          "model_module": "@jupyter-widgets/controls",
          "model_name": "HTMLModel",
          "model_module_version": "1.5.0",
          "state": {
            "_dom_classes": [],
            "_model_module": "@jupyter-widgets/controls",
            "_model_module_version": "1.5.0",
            "_model_name": "HTMLModel",
            "_view_count": null,
            "_view_module": "@jupyter-widgets/controls",
            "_view_module_version": "1.5.0",
            "_view_name": "HTMLView",
            "description": "",
            "description_tooltip": null,
            "layout": "IPY_MODEL_1d9133cbb9d74870af650e7171e35d8c",
            "placeholder": "​",
            "style": "IPY_MODEL_16e1ee9c623342f08f78a8d669ff3f1c",
            "value": " 48.0/48.0 [00:00&lt;00:00, 984B/s]"
          }
        },
        "3fdce5d721ac46f7be9d8159180d32b0": {
          "model_module": "@jupyter-widgets/base",
          "model_name": "LayoutModel",
          "model_module_version": "1.2.0",
          "state": {
            "_model_module": "@jupyter-widgets/base",
            "_model_module_version": "1.2.0",
            "_model_name": "LayoutModel",
            "_view_count": null,
            "_view_module": "@jupyter-widgets/base",
            "_view_module_version": "1.2.0",
            "_view_name": "LayoutView",
            "align_content": null,
            "align_items": null,
            "align_self": null,
            "border": null,
            "bottom": null,
            "display": null,
            "flex": null,
            "flex_flow": null,
            "grid_area": null,
            "grid_auto_columns": null,
            "grid_auto_flow": null,
            "grid_auto_rows": null,
            "grid_column": null,
            "grid_gap": null,
            "grid_row": null,
            "grid_template_areas": null,
            "grid_template_columns": null,
            "grid_template_rows": null,
            "height": null,
            "justify_content": null,
            "justify_items": null,
            "left": null,
            "margin": null,
            "max_height": null,
            "max_width": null,
            "min_height": null,
            "min_width": null,
            "object_fit": null,
            "object_position": null,
            "order": null,
            "overflow": null,
            "overflow_x": null,
            "overflow_y": null,
            "padding": null,
            "right": null,
            "top": null,
            "visibility": null,
            "width": null
          }
        },
        "22e6fe0f9f6e4a0ab2e330b6aaa530d8": {
          "model_module": "@jupyter-widgets/base",
          "model_name": "LayoutModel",
          "model_module_version": "1.2.0",
          "state": {
            "_model_module": "@jupyter-widgets/base",
            "_model_module_version": "1.2.0",
            "_model_name": "LayoutModel",
            "_view_count": null,
            "_view_module": "@jupyter-widgets/base",
            "_view_module_version": "1.2.0",
            "_view_name": "LayoutView",
            "align_content": null,
            "align_items": null,
            "align_self": null,
            "border": null,
            "bottom": null,
            "display": null,
            "flex": null,
            "flex_flow": null,
            "grid_area": null,
            "grid_auto_columns": null,
            "grid_auto_flow": null,
            "grid_auto_rows": null,
            "grid_column": null,
            "grid_gap": null,
            "grid_row": null,
            "grid_template_areas": null,
            "grid_template_columns": null,
            "grid_template_rows": null,
            "height": null,
            "justify_content": null,
            "justify_items": null,
            "left": null,
            "margin": null,
            "max_height": null,
            "max_width": null,
            "min_height": null,
            "min_width": null,
            "object_fit": null,
            "object_position": null,
            "order": null,
            "overflow": null,
            "overflow_x": null,
            "overflow_y": null,
            "padding": null,
            "right": null,
            "top": null,
            "visibility": null,
            "width": null
          }
        },
        "13d09dbb4f504e15ab0dcd6258c6ab3c": {
          "model_module": "@jupyter-widgets/controls",
          "model_name": "DescriptionStyleModel",
          "model_module_version": "1.5.0",
          "state": {
            "_model_module": "@jupyter-widgets/controls",
            "_model_module_version": "1.5.0",
            "_model_name": "DescriptionStyleModel",
            "_view_count": null,
            "_view_module": "@jupyter-widgets/base",
            "_view_module_version": "1.2.0",
            "_view_name": "StyleView",
            "description_width": ""
          }
        },
        "35b4932a64254a92a69b81e2bbb2bdfd": {
          "model_module": "@jupyter-widgets/base",
          "model_name": "LayoutModel",
          "model_module_version": "1.2.0",
          "state": {
            "_model_module": "@jupyter-widgets/base",
            "_model_module_version": "1.2.0",
            "_model_name": "LayoutModel",
            "_view_count": null,
            "_view_module": "@jupyter-widgets/base",
            "_view_module_version": "1.2.0",
            "_view_name": "LayoutView",
            "align_content": null,
            "align_items": null,
            "align_self": null,
            "border": null,
            "bottom": null,
            "display": null,
            "flex": null,
            "flex_flow": null,
            "grid_area": null,
            "grid_auto_columns": null,
            "grid_auto_flow": null,
            "grid_auto_rows": null,
            "grid_column": null,
            "grid_gap": null,
            "grid_row": null,
            "grid_template_areas": null,
            "grid_template_columns": null,
            "grid_template_rows": null,
            "height": null,
            "justify_content": null,
            "justify_items": null,
            "left": null,
            "margin": null,
            "max_height": null,
            "max_width": null,
            "min_height": null,
            "min_width": null,
            "object_fit": null,
            "object_position": null,
            "order": null,
            "overflow": null,
            "overflow_x": null,
            "overflow_y": null,
            "padding": null,
            "right": null,
            "top": null,
            "visibility": null,
            "width": null
          }
        },
        "05226d634b8e4ce2b110ba6fd807d780": {
          "model_module": "@jupyter-widgets/controls",
          "model_name": "ProgressStyleModel",
          "model_module_version": "1.5.0",
          "state": {
            "_model_module": "@jupyter-widgets/controls",
            "_model_module_version": "1.5.0",
            "_model_name": "ProgressStyleModel",
            "_view_count": null,
            "_view_module": "@jupyter-widgets/base",
            "_view_module_version": "1.2.0",
            "_view_name": "StyleView",
            "bar_color": null,
            "description_width": ""
          }
        },
        "1d9133cbb9d74870af650e7171e35d8c": {
          "model_module": "@jupyter-widgets/base",
          "model_name": "LayoutModel",
          "model_module_version": "1.2.0",
          "state": {
            "_model_module": "@jupyter-widgets/base",
            "_model_module_version": "1.2.0",
            "_model_name": "LayoutModel",
            "_view_count": null,
            "_view_module": "@jupyter-widgets/base",
            "_view_module_version": "1.2.0",
            "_view_name": "LayoutView",
            "align_content": null,
            "align_items": null,
            "align_self": null,
            "border": null,
            "bottom": null,
            "display": null,
            "flex": null,
            "flex_flow": null,
            "grid_area": null,
            "grid_auto_columns": null,
            "grid_auto_flow": null,
            "grid_auto_rows": null,
            "grid_column": null,
            "grid_gap": null,
            "grid_row": null,
            "grid_template_areas": null,
            "grid_template_columns": null,
            "grid_template_rows": null,
            "height": null,
            "justify_content": null,
            "justify_items": null,
            "left": null,
            "margin": null,
            "max_height": null,
            "max_width": null,
            "min_height": null,
            "min_width": null,
            "object_fit": null,
            "object_position": null,
            "order": null,
            "overflow": null,
            "overflow_x": null,
            "overflow_y": null,
            "padding": null,
            "right": null,
            "top": null,
            "visibility": null,
            "width": null
          }
        },
        "16e1ee9c623342f08f78a8d669ff3f1c": {
          "model_module": "@jupyter-widgets/controls",
          "model_name": "DescriptionStyleModel",
          "model_module_version": "1.5.0",
          "state": {
            "_model_module": "@jupyter-widgets/controls",
            "_model_module_version": "1.5.0",
            "_model_name": "DescriptionStyleModel",
            "_view_count": null,
            "_view_module": "@jupyter-widgets/base",
            "_view_module_version": "1.2.0",
            "_view_name": "StyleView",
            "description_width": ""
          }
        },
        "8f7be1bdd9244afdbc84fa5e005e8cbc": {
          "model_module": "@jupyter-widgets/controls",
          "model_name": "HBoxModel",
          "model_module_version": "1.5.0",
          "state": {
            "_dom_classes": [],
            "_model_module": "@jupyter-widgets/controls",
            "_model_module_version": "1.5.0",
            "_model_name": "HBoxModel",
            "_view_count": null,
            "_view_module": "@jupyter-widgets/controls",
            "_view_module_version": "1.5.0",
            "_view_name": "HBoxView",
            "box_style": "",
            "children": [
              "IPY_MODEL_c437294c34ab4afca8fe3a1c131b6b52",
              "IPY_MODEL_24479b0d430e4bcfadaa97d1a88866c0",
              "IPY_MODEL_80770529f2df48be8156ff4f06858996"
            ],
            "layout": "IPY_MODEL_df9419c4e4074326a902b3dd8e0fb818"
          }
        },
        "c437294c34ab4afca8fe3a1c131b6b52": {
          "model_module": "@jupyter-widgets/controls",
          "model_name": "HTMLModel",
          "model_module_version": "1.5.0",
          "state": {
            "_dom_classes": [],
            "_model_module": "@jupyter-widgets/controls",
            "_model_module_version": "1.5.0",
            "_model_name": "HTMLModel",
            "_view_count": null,
            "_view_module": "@jupyter-widgets/controls",
            "_view_module_version": "1.5.0",
            "_view_name": "HTMLView",
            "description": "",
            "description_tooltip": null,
            "layout": "IPY_MODEL_73c07376be034c38a7d6d27d8fe8ebcf",
            "placeholder": "​",
            "style": "IPY_MODEL_324fa4a236ba48ab9c6c48c8e9043f29",
            "value": "vocab.txt: 100%"
          }
        },
        "24479b0d430e4bcfadaa97d1a88866c0": {
          "model_module": "@jupyter-widgets/controls",
          "model_name": "FloatProgressModel",
          "model_module_version": "1.5.0",
          "state": {
            "_dom_classes": [],
            "_model_module": "@jupyter-widgets/controls",
            "_model_module_version": "1.5.0",
            "_model_name": "FloatProgressModel",
            "_view_count": null,
            "_view_module": "@jupyter-widgets/controls",
            "_view_module_version": "1.5.0",
            "_view_name": "ProgressView",
            "bar_style": "success",
            "description": "",
            "description_tooltip": null,
            "layout": "IPY_MODEL_78ab8ffc4181420597fde07359f6c3cb",
            "max": 231508,
            "min": 0,
            "orientation": "horizontal",
            "style": "IPY_MODEL_e85500e7fd0645b5a58e31cc00c531df",
            "value": 231508
          }
        },
        "80770529f2df48be8156ff4f06858996": {
          "model_module": "@jupyter-widgets/controls",
          "model_name": "HTMLModel",
          "model_module_version": "1.5.0",
          "state": {
            "_dom_classes": [],
            "_model_module": "@jupyter-widgets/controls",
            "_model_module_version": "1.5.0",
            "_model_name": "HTMLModel",
            "_view_count": null,
            "_view_module": "@jupyter-widgets/controls",
            "_view_module_version": "1.5.0",
            "_view_name": "HTMLView",
            "description": "",
            "description_tooltip": null,
            "layout": "IPY_MODEL_2cd199a9f2fe4097a6dcb25891327bff",
            "placeholder": "​",
            "style": "IPY_MODEL_11914eada99c4dc185c8a16bb8438a13",
            "value": " 232k/232k [00:00&lt;00:00, 3.77MB/s]"
          }
        },
        "df9419c4e4074326a902b3dd8e0fb818": {
          "model_module": "@jupyter-widgets/base",
          "model_name": "LayoutModel",
          "model_module_version": "1.2.0",
          "state": {
            "_model_module": "@jupyter-widgets/base",
            "_model_module_version": "1.2.0",
            "_model_name": "LayoutModel",
            "_view_count": null,
            "_view_module": "@jupyter-widgets/base",
            "_view_module_version": "1.2.0",
            "_view_name": "LayoutView",
            "align_content": null,
            "align_items": null,
            "align_self": null,
            "border": null,
            "bottom": null,
            "display": null,
            "flex": null,
            "flex_flow": null,
            "grid_area": null,
            "grid_auto_columns": null,
            "grid_auto_flow": null,
            "grid_auto_rows": null,
            "grid_column": null,
            "grid_gap": null,
            "grid_row": null,
            "grid_template_areas": null,
            "grid_template_columns": null,
            "grid_template_rows": null,
            "height": null,
            "justify_content": null,
            "justify_items": null,
            "left": null,
            "margin": null,
            "max_height": null,
            "max_width": null,
            "min_height": null,
            "min_width": null,
            "object_fit": null,
            "object_position": null,
            "order": null,
            "overflow": null,
            "overflow_x": null,
            "overflow_y": null,
            "padding": null,
            "right": null,
            "top": null,
            "visibility": null,
            "width": null
          }
        },
        "73c07376be034c38a7d6d27d8fe8ebcf": {
          "model_module": "@jupyter-widgets/base",
          "model_name": "LayoutModel",
          "model_module_version": "1.2.0",
          "state": {
            "_model_module": "@jupyter-widgets/base",
            "_model_module_version": "1.2.0",
            "_model_name": "LayoutModel",
            "_view_count": null,
            "_view_module": "@jupyter-widgets/base",
            "_view_module_version": "1.2.0",
            "_view_name": "LayoutView",
            "align_content": null,
            "align_items": null,
            "align_self": null,
            "border": null,
            "bottom": null,
            "display": null,
            "flex": null,
            "flex_flow": null,
            "grid_area": null,
            "grid_auto_columns": null,
            "grid_auto_flow": null,
            "grid_auto_rows": null,
            "grid_column": null,
            "grid_gap": null,
            "grid_row": null,
            "grid_template_areas": null,
            "grid_template_columns": null,
            "grid_template_rows": null,
            "height": null,
            "justify_content": null,
            "justify_items": null,
            "left": null,
            "margin": null,
            "max_height": null,
            "max_width": null,
            "min_height": null,
            "min_width": null,
            "object_fit": null,
            "object_position": null,
            "order": null,
            "overflow": null,
            "overflow_x": null,
            "overflow_y": null,
            "padding": null,
            "right": null,
            "top": null,
            "visibility": null,
            "width": null
          }
        },
        "324fa4a236ba48ab9c6c48c8e9043f29": {
          "model_module": "@jupyter-widgets/controls",
          "model_name": "DescriptionStyleModel",
          "model_module_version": "1.5.0",
          "state": {
            "_model_module": "@jupyter-widgets/controls",
            "_model_module_version": "1.5.0",
            "_model_name": "DescriptionStyleModel",
            "_view_count": null,
            "_view_module": "@jupyter-widgets/base",
            "_view_module_version": "1.2.0",
            "_view_name": "StyleView",
            "description_width": ""
          }
        },
        "78ab8ffc4181420597fde07359f6c3cb": {
          "model_module": "@jupyter-widgets/base",
          "model_name": "LayoutModel",
          "model_module_version": "1.2.0",
          "state": {
            "_model_module": "@jupyter-widgets/base",
            "_model_module_version": "1.2.0",
            "_model_name": "LayoutModel",
            "_view_count": null,
            "_view_module": "@jupyter-widgets/base",
            "_view_module_version": "1.2.0",
            "_view_name": "LayoutView",
            "align_content": null,
            "align_items": null,
            "align_self": null,
            "border": null,
            "bottom": null,
            "display": null,
            "flex": null,
            "flex_flow": null,
            "grid_area": null,
            "grid_auto_columns": null,
            "grid_auto_flow": null,
            "grid_auto_rows": null,
            "grid_column": null,
            "grid_gap": null,
            "grid_row": null,
            "grid_template_areas": null,
            "grid_template_columns": null,
            "grid_template_rows": null,
            "height": null,
            "justify_content": null,
            "justify_items": null,
            "left": null,
            "margin": null,
            "max_height": null,
            "max_width": null,
            "min_height": null,
            "min_width": null,
            "object_fit": null,
            "object_position": null,
            "order": null,
            "overflow": null,
            "overflow_x": null,
            "overflow_y": null,
            "padding": null,
            "right": null,
            "top": null,
            "visibility": null,
            "width": null
          }
        },
        "e85500e7fd0645b5a58e31cc00c531df": {
          "model_module": "@jupyter-widgets/controls",
          "model_name": "ProgressStyleModel",
          "model_module_version": "1.5.0",
          "state": {
            "_model_module": "@jupyter-widgets/controls",
            "_model_module_version": "1.5.0",
            "_model_name": "ProgressStyleModel",
            "_view_count": null,
            "_view_module": "@jupyter-widgets/base",
            "_view_module_version": "1.2.0",
            "_view_name": "StyleView",
            "bar_color": null,
            "description_width": ""
          }
        },
        "2cd199a9f2fe4097a6dcb25891327bff": {
          "model_module": "@jupyter-widgets/base",
          "model_name": "LayoutModel",
          "model_module_version": "1.2.0",
          "state": {
            "_model_module": "@jupyter-widgets/base",
            "_model_module_version": "1.2.0",
            "_model_name": "LayoutModel",
            "_view_count": null,
            "_view_module": "@jupyter-widgets/base",
            "_view_module_version": "1.2.0",
            "_view_name": "LayoutView",
            "align_content": null,
            "align_items": null,
            "align_self": null,
            "border": null,
            "bottom": null,
            "display": null,
            "flex": null,
            "flex_flow": null,
            "grid_area": null,
            "grid_auto_columns": null,
            "grid_auto_flow": null,
            "grid_auto_rows": null,
            "grid_column": null,
            "grid_gap": null,
            "grid_row": null,
            "grid_template_areas": null,
            "grid_template_columns": null,
            "grid_template_rows": null,
            "height": null,
            "justify_content": null,
            "justify_items": null,
            "left": null,
            "margin": null,
            "max_height": null,
            "max_width": null,
            "min_height": null,
            "min_width": null,
            "object_fit": null,
            "object_position": null,
            "order": null,
            "overflow": null,
            "overflow_x": null,
            "overflow_y": null,
            "padding": null,
            "right": null,
            "top": null,
            "visibility": null,
            "width": null
          }
        },
        "11914eada99c4dc185c8a16bb8438a13": {
          "model_module": "@jupyter-widgets/controls",
          "model_name": "DescriptionStyleModel",
          "model_module_version": "1.5.0",
          "state": {
            "_model_module": "@jupyter-widgets/controls",
            "_model_module_version": "1.5.0",
            "_model_name": "DescriptionStyleModel",
            "_view_count": null,
            "_view_module": "@jupyter-widgets/base",
            "_view_module_version": "1.2.0",
            "_view_name": "StyleView",
            "description_width": ""
          }
        },
        "75fdd92bc51e43298429e7caa295bf99": {
          "model_module": "@jupyter-widgets/controls",
          "model_name": "HBoxModel",
          "model_module_version": "1.5.0",
          "state": {
            "_dom_classes": [],
            "_model_module": "@jupyter-widgets/controls",
            "_model_module_version": "1.5.0",
            "_model_name": "HBoxModel",
            "_view_count": null,
            "_view_module": "@jupyter-widgets/controls",
            "_view_module_version": "1.5.0",
            "_view_name": "HBoxView",
            "box_style": "",
            "children": [
              "IPY_MODEL_e330ebc8f54547789d68bfd297863005",
              "IPY_MODEL_091331ee9d3a471a986fe3be68d8ce62",
              "IPY_MODEL_95fb2b62a8aa4a84ab5024064c59014d"
            ],
            "layout": "IPY_MODEL_fc925ed403e64e27b8f6489f26da5a7c"
          }
        },
        "e330ebc8f54547789d68bfd297863005": {
          "model_module": "@jupyter-widgets/controls",
          "model_name": "HTMLModel",
          "model_module_version": "1.5.0",
          "state": {
            "_dom_classes": [],
            "_model_module": "@jupyter-widgets/controls",
            "_model_module_version": "1.5.0",
            "_model_name": "HTMLModel",
            "_view_count": null,
            "_view_module": "@jupyter-widgets/controls",
            "_view_module_version": "1.5.0",
            "_view_name": "HTMLView",
            "description": "",
            "description_tooltip": null,
            "layout": "IPY_MODEL_3362ee028a244ccba3f7dfcd094a6bed",
            "placeholder": "​",
            "style": "IPY_MODEL_833dc48021834b299db7fe87350e7a7a",
            "value": "tokenizer.json: 100%"
          }
        },
        "091331ee9d3a471a986fe3be68d8ce62": {
          "model_module": "@jupyter-widgets/controls",
          "model_name": "FloatProgressModel",
          "model_module_version": "1.5.0",
          "state": {
            "_dom_classes": [],
            "_model_module": "@jupyter-widgets/controls",
            "_model_module_version": "1.5.0",
            "_model_name": "FloatProgressModel",
            "_view_count": null,
            "_view_module": "@jupyter-widgets/controls",
            "_view_module_version": "1.5.0",
            "_view_name": "ProgressView",
            "bar_style": "success",
            "description": "",
            "description_tooltip": null,
            "layout": "IPY_MODEL_bfb06d66d4fc4431833fbc0c3f9350f0",
            "max": 466062,
            "min": 0,
            "orientation": "horizontal",
            "style": "IPY_MODEL_a813f56b02c5402a92ca3248b6cef376",
            "value": 466062
          }
        },
        "95fb2b62a8aa4a84ab5024064c59014d": {
          "model_module": "@jupyter-widgets/controls",
          "model_name": "HTMLModel",
          "model_module_version": "1.5.0",
          "state": {
            "_dom_classes": [],
            "_model_module": "@jupyter-widgets/controls",
            "_model_module_version": "1.5.0",
            "_model_name": "HTMLModel",
            "_view_count": null,
            "_view_module": "@jupyter-widgets/controls",
            "_view_module_version": "1.5.0",
            "_view_name": "HTMLView",
            "description": "",
            "description_tooltip": null,
            "layout": "IPY_MODEL_5734e61937784fccb589f67c215bd9cc",
            "placeholder": "​",
            "style": "IPY_MODEL_1d11f97cd7f64a0e850686064c37ced0",
            "value": " 466k/466k [00:00&lt;00:00, 6.26MB/s]"
          }
        },
        "fc925ed403e64e27b8f6489f26da5a7c": {
          "model_module": "@jupyter-widgets/base",
          "model_name": "LayoutModel",
          "model_module_version": "1.2.0",
          "state": {
            "_model_module": "@jupyter-widgets/base",
            "_model_module_version": "1.2.0",
            "_model_name": "LayoutModel",
            "_view_count": null,
            "_view_module": "@jupyter-widgets/base",
            "_view_module_version": "1.2.0",
            "_view_name": "LayoutView",
            "align_content": null,
            "align_items": null,
            "align_self": null,
            "border": null,
            "bottom": null,
            "display": null,
            "flex": null,
            "flex_flow": null,
            "grid_area": null,
            "grid_auto_columns": null,
            "grid_auto_flow": null,
            "grid_auto_rows": null,
            "grid_column": null,
            "grid_gap": null,
            "grid_row": null,
            "grid_template_areas": null,
            "grid_template_columns": null,
            "grid_template_rows": null,
            "height": null,
            "justify_content": null,
            "justify_items": null,
            "left": null,
            "margin": null,
            "max_height": null,
            "max_width": null,
            "min_height": null,
            "min_width": null,
            "object_fit": null,
            "object_position": null,
            "order": null,
            "overflow": null,
            "overflow_x": null,
            "overflow_y": null,
            "padding": null,
            "right": null,
            "top": null,
            "visibility": null,
            "width": null
          }
        },
        "3362ee028a244ccba3f7dfcd094a6bed": {
          "model_module": "@jupyter-widgets/base",
          "model_name": "LayoutModel",
          "model_module_version": "1.2.0",
          "state": {
            "_model_module": "@jupyter-widgets/base",
            "_model_module_version": "1.2.0",
            "_model_name": "LayoutModel",
            "_view_count": null,
            "_view_module": "@jupyter-widgets/base",
            "_view_module_version": "1.2.0",
            "_view_name": "LayoutView",
            "align_content": null,
            "align_items": null,
            "align_self": null,
            "border": null,
            "bottom": null,
            "display": null,
            "flex": null,
            "flex_flow": null,
            "grid_area": null,
            "grid_auto_columns": null,
            "grid_auto_flow": null,
            "grid_auto_rows": null,
            "grid_column": null,
            "grid_gap": null,
            "grid_row": null,
            "grid_template_areas": null,
            "grid_template_columns": null,
            "grid_template_rows": null,
            "height": null,
            "justify_content": null,
            "justify_items": null,
            "left": null,
            "margin": null,
            "max_height": null,
            "max_width": null,
            "min_height": null,
            "min_width": null,
            "object_fit": null,
            "object_position": null,
            "order": null,
            "overflow": null,
            "overflow_x": null,
            "overflow_y": null,
            "padding": null,
            "right": null,
            "top": null,
            "visibility": null,
            "width": null
          }
        },
        "833dc48021834b299db7fe87350e7a7a": {
          "model_module": "@jupyter-widgets/controls",
          "model_name": "DescriptionStyleModel",
          "model_module_version": "1.5.0",
          "state": {
            "_model_module": "@jupyter-widgets/controls",
            "_model_module_version": "1.5.0",
            "_model_name": "DescriptionStyleModel",
            "_view_count": null,
            "_view_module": "@jupyter-widgets/base",
            "_view_module_version": "1.2.0",
            "_view_name": "StyleView",
            "description_width": ""
          }
        },
        "bfb06d66d4fc4431833fbc0c3f9350f0": {
          "model_module": "@jupyter-widgets/base",
          "model_name": "LayoutModel",
          "model_module_version": "1.2.0",
          "state": {
            "_model_module": "@jupyter-widgets/base",
            "_model_module_version": "1.2.0",
            "_model_name": "LayoutModel",
            "_view_count": null,
            "_view_module": "@jupyter-widgets/base",
            "_view_module_version": "1.2.0",
            "_view_name": "LayoutView",
            "align_content": null,
            "align_items": null,
            "align_self": null,
            "border": null,
            "bottom": null,
            "display": null,
            "flex": null,
            "flex_flow": null,
            "grid_area": null,
            "grid_auto_columns": null,
            "grid_auto_flow": null,
            "grid_auto_rows": null,
            "grid_column": null,
            "grid_gap": null,
            "grid_row": null,
            "grid_template_areas": null,
            "grid_template_columns": null,
            "grid_template_rows": null,
            "height": null,
            "justify_content": null,
            "justify_items": null,
            "left": null,
            "margin": null,
            "max_height": null,
            "max_width": null,
            "min_height": null,
            "min_width": null,
            "object_fit": null,
            "object_position": null,
            "order": null,
            "overflow": null,
            "overflow_x": null,
            "overflow_y": null,
            "padding": null,
            "right": null,
            "top": null,
            "visibility": null,
            "width": null
          }
        },
        "a813f56b02c5402a92ca3248b6cef376": {
          "model_module": "@jupyter-widgets/controls",
          "model_name": "ProgressStyleModel",
          "model_module_version": "1.5.0",
          "state": {
            "_model_module": "@jupyter-widgets/controls",
            "_model_module_version": "1.5.0",
            "_model_name": "ProgressStyleModel",
            "_view_count": null,
            "_view_module": "@jupyter-widgets/base",
            "_view_module_version": "1.2.0",
            "_view_name": "StyleView",
            "bar_color": null,
            "description_width": ""
          }
        },
        "5734e61937784fccb589f67c215bd9cc": {
          "model_module": "@jupyter-widgets/base",
          "model_name": "LayoutModel",
          "model_module_version": "1.2.0",
          "state": {
            "_model_module": "@jupyter-widgets/base",
            "_model_module_version": "1.2.0",
            "_model_name": "LayoutModel",
            "_view_count": null,
            "_view_module": "@jupyter-widgets/base",
            "_view_module_version": "1.2.0",
            "_view_name": "LayoutView",
            "align_content": null,
            "align_items": null,
            "align_self": null,
            "border": null,
            "bottom": null,
            "display": null,
            "flex": null,
            "flex_flow": null,
            "grid_area": null,
            "grid_auto_columns": null,
            "grid_auto_flow": null,
            "grid_auto_rows": null,
            "grid_column": null,
            "grid_gap": null,
            "grid_row": null,
            "grid_template_areas": null,
            "grid_template_columns": null,
            "grid_template_rows": null,
            "height": null,
            "justify_content": null,
            "justify_items": null,
            "left": null,
            "margin": null,
            "max_height": null,
            "max_width": null,
            "min_height": null,
            "min_width": null,
            "object_fit": null,
            "object_position": null,
            "order": null,
            "overflow": null,
            "overflow_x": null,
            "overflow_y": null,
            "padding": null,
            "right": null,
            "top": null,
            "visibility": null,
            "width": null
          }
        },
        "1d11f97cd7f64a0e850686064c37ced0": {
          "model_module": "@jupyter-widgets/controls",
          "model_name": "DescriptionStyleModel",
          "model_module_version": "1.5.0",
          "state": {
            "_model_module": "@jupyter-widgets/controls",
            "_model_module_version": "1.5.0",
            "_model_name": "DescriptionStyleModel",
            "_view_count": null,
            "_view_module": "@jupyter-widgets/base",
            "_view_module_version": "1.2.0",
            "_view_name": "StyleView",
            "description_width": ""
          }
        },
        "0ca0aa570ad14beca3ca19b3a22b6d39": {
          "model_module": "@jupyter-widgets/controls",
          "model_name": "HBoxModel",
          "model_module_version": "1.5.0",
          "state": {
            "_dom_classes": [],
            "_model_module": "@jupyter-widgets/controls",
            "_model_module_version": "1.5.0",
            "_model_name": "HBoxModel",
            "_view_count": null,
            "_view_module": "@jupyter-widgets/controls",
            "_view_module_version": "1.5.0",
            "_view_name": "HBoxView",
            "box_style": "",
            "children": [
              "IPY_MODEL_bd7b99f8ca204d368266c4df3d2b8acf",
              "IPY_MODEL_470faf586b5442bcb33cc5a53c95cb3a",
              "IPY_MODEL_0f670599dee1493b8148363281ac81f5"
            ],
            "layout": "IPY_MODEL_55712c9a71664041b1e8a9db734c5a28"
          }
        },
        "bd7b99f8ca204d368266c4df3d2b8acf": {
          "model_module": "@jupyter-widgets/controls",
          "model_name": "HTMLModel",
          "model_module_version": "1.5.0",
          "state": {
            "_dom_classes": [],
            "_model_module": "@jupyter-widgets/controls",
            "_model_module_version": "1.5.0",
            "_model_name": "HTMLModel",
            "_view_count": null,
            "_view_module": "@jupyter-widgets/controls",
            "_view_module_version": "1.5.0",
            "_view_name": "HTMLView",
            "description": "",
            "description_tooltip": null,
            "layout": "IPY_MODEL_c0c91d59135f4203840173fa5f199bec",
            "placeholder": "​",
            "style": "IPY_MODEL_b87d6375b77c4eb98b693800e759b19a",
            "value": "config.json: 100%"
          }
        },
        "470faf586b5442bcb33cc5a53c95cb3a": {
          "model_module": "@jupyter-widgets/controls",
          "model_name": "FloatProgressModel",
          "model_module_version": "1.5.0",
          "state": {
            "_dom_classes": [],
            "_model_module": "@jupyter-widgets/controls",
            "_model_module_version": "1.5.0",
            "_model_name": "FloatProgressModel",
            "_view_count": null,
            "_view_module": "@jupyter-widgets/controls",
            "_view_module_version": "1.5.0",
            "_view_name": "ProgressView",
            "bar_style": "success",
            "description": "",
            "description_tooltip": null,
            "layout": "IPY_MODEL_7d3120198f9e44d6b466aa9d7d35370e",
            "max": 570,
            "min": 0,
            "orientation": "horizontal",
            "style": "IPY_MODEL_b7207f93f90046c38968785dfbdcb4c5",
            "value": 570
          }
        },
        "0f670599dee1493b8148363281ac81f5": {
          "model_module": "@jupyter-widgets/controls",
          "model_name": "HTMLModel",
          "model_module_version": "1.5.0",
          "state": {
            "_dom_classes": [],
            "_model_module": "@jupyter-widgets/controls",
            "_model_module_version": "1.5.0",
            "_model_name": "HTMLModel",
            "_view_count": null,
            "_view_module": "@jupyter-widgets/controls",
            "_view_module_version": "1.5.0",
            "_view_name": "HTMLView",
            "description": "",
            "description_tooltip": null,
            "layout": "IPY_MODEL_c6f1bbe62a9c4ecd914ce649f454f3b7",
            "placeholder": "​",
            "style": "IPY_MODEL_c95a05354ea1452f80bfc342a52c3981",
            "value": " 570/570 [00:00&lt;00:00, 10.5kB/s]"
          }
        },
        "55712c9a71664041b1e8a9db734c5a28": {
          "model_module": "@jupyter-widgets/base",
          "model_name": "LayoutModel",
          "model_module_version": "1.2.0",
          "state": {
            "_model_module": "@jupyter-widgets/base",
            "_model_module_version": "1.2.0",
            "_model_name": "LayoutModel",
            "_view_count": null,
            "_view_module": "@jupyter-widgets/base",
            "_view_module_version": "1.2.0",
            "_view_name": "LayoutView",
            "align_content": null,
            "align_items": null,
            "align_self": null,
            "border": null,
            "bottom": null,
            "display": null,
            "flex": null,
            "flex_flow": null,
            "grid_area": null,
            "grid_auto_columns": null,
            "grid_auto_flow": null,
            "grid_auto_rows": null,
            "grid_column": null,
            "grid_gap": null,
            "grid_row": null,
            "grid_template_areas": null,
            "grid_template_columns": null,
            "grid_template_rows": null,
            "height": null,
            "justify_content": null,
            "justify_items": null,
            "left": null,
            "margin": null,
            "max_height": null,
            "max_width": null,
            "min_height": null,
            "min_width": null,
            "object_fit": null,
            "object_position": null,
            "order": null,
            "overflow": null,
            "overflow_x": null,
            "overflow_y": null,
            "padding": null,
            "right": null,
            "top": null,
            "visibility": null,
            "width": null
          }
        },
        "c0c91d59135f4203840173fa5f199bec": {
          "model_module": "@jupyter-widgets/base",
          "model_name": "LayoutModel",
          "model_module_version": "1.2.0",
          "state": {
            "_model_module": "@jupyter-widgets/base",
            "_model_module_version": "1.2.0",
            "_model_name": "LayoutModel",
            "_view_count": null,
            "_view_module": "@jupyter-widgets/base",
            "_view_module_version": "1.2.0",
            "_view_name": "LayoutView",
            "align_content": null,
            "align_items": null,
            "align_self": null,
            "border": null,
            "bottom": null,
            "display": null,
            "flex": null,
            "flex_flow": null,
            "grid_area": null,
            "grid_auto_columns": null,
            "grid_auto_flow": null,
            "grid_auto_rows": null,
            "grid_column": null,
            "grid_gap": null,
            "grid_row": null,
            "grid_template_areas": null,
            "grid_template_columns": null,
            "grid_template_rows": null,
            "height": null,
            "justify_content": null,
            "justify_items": null,
            "left": null,
            "margin": null,
            "max_height": null,
            "max_width": null,
            "min_height": null,
            "min_width": null,
            "object_fit": null,
            "object_position": null,
            "order": null,
            "overflow": null,
            "overflow_x": null,
            "overflow_y": null,
            "padding": null,
            "right": null,
            "top": null,
            "visibility": null,
            "width": null
          }
        },
        "b87d6375b77c4eb98b693800e759b19a": {
          "model_module": "@jupyter-widgets/controls",
          "model_name": "DescriptionStyleModel",
          "model_module_version": "1.5.0",
          "state": {
            "_model_module": "@jupyter-widgets/controls",
            "_model_module_version": "1.5.0",
            "_model_name": "DescriptionStyleModel",
            "_view_count": null,
            "_view_module": "@jupyter-widgets/base",
            "_view_module_version": "1.2.0",
            "_view_name": "StyleView",
            "description_width": ""
          }
        },
        "7d3120198f9e44d6b466aa9d7d35370e": {
          "model_module": "@jupyter-widgets/base",
          "model_name": "LayoutModel",
          "model_module_version": "1.2.0",
          "state": {
            "_model_module": "@jupyter-widgets/base",
            "_model_module_version": "1.2.0",
            "_model_name": "LayoutModel",
            "_view_count": null,
            "_view_module": "@jupyter-widgets/base",
            "_view_module_version": "1.2.0",
            "_view_name": "LayoutView",
            "align_content": null,
            "align_items": null,
            "align_self": null,
            "border": null,
            "bottom": null,
            "display": null,
            "flex": null,
            "flex_flow": null,
            "grid_area": null,
            "grid_auto_columns": null,
            "grid_auto_flow": null,
            "grid_auto_rows": null,
            "grid_column": null,
            "grid_gap": null,
            "grid_row": null,
            "grid_template_areas": null,
            "grid_template_columns": null,
            "grid_template_rows": null,
            "height": null,
            "justify_content": null,
            "justify_items": null,
            "left": null,
            "margin": null,
            "max_height": null,
            "max_width": null,
            "min_height": null,
            "min_width": null,
            "object_fit": null,
            "object_position": null,
            "order": null,
            "overflow": null,
            "overflow_x": null,
            "overflow_y": null,
            "padding": null,
            "right": null,
            "top": null,
            "visibility": null,
            "width": null
          }
        },
        "b7207f93f90046c38968785dfbdcb4c5": {
          "model_module": "@jupyter-widgets/controls",
          "model_name": "ProgressStyleModel",
          "model_module_version": "1.5.0",
          "state": {
            "_model_module": "@jupyter-widgets/controls",
            "_model_module_version": "1.5.0",
            "_model_name": "ProgressStyleModel",
            "_view_count": null,
            "_view_module": "@jupyter-widgets/base",
            "_view_module_version": "1.2.0",
            "_view_name": "StyleView",
            "bar_color": null,
            "description_width": ""
          }
        },
        "c6f1bbe62a9c4ecd914ce649f454f3b7": {
          "model_module": "@jupyter-widgets/base",
          "model_name": "LayoutModel",
          "model_module_version": "1.2.0",
          "state": {
            "_model_module": "@jupyter-widgets/base",
            "_model_module_version": "1.2.0",
            "_model_name": "LayoutModel",
            "_view_count": null,
            "_view_module": "@jupyter-widgets/base",
            "_view_module_version": "1.2.0",
            "_view_name": "LayoutView",
            "align_content": null,
            "align_items": null,
            "align_self": null,
            "border": null,
            "bottom": null,
            "display": null,
            "flex": null,
            "flex_flow": null,
            "grid_area": null,
            "grid_auto_columns": null,
            "grid_auto_flow": null,
            "grid_auto_rows": null,
            "grid_column": null,
            "grid_gap": null,
            "grid_row": null,
            "grid_template_areas": null,
            "grid_template_columns": null,
            "grid_template_rows": null,
            "height": null,
            "justify_content": null,
            "justify_items": null,
            "left": null,
            "margin": null,
            "max_height": null,
            "max_width": null,
            "min_height": null,
            "min_width": null,
            "object_fit": null,
            "object_position": null,
            "order": null,
            "overflow": null,
            "overflow_x": null,
            "overflow_y": null,
            "padding": null,
            "right": null,
            "top": null,
            "visibility": null,
            "width": null
          }
        },
        "c95a05354ea1452f80bfc342a52c3981": {
          "model_module": "@jupyter-widgets/controls",
          "model_name": "DescriptionStyleModel",
          "model_module_version": "1.5.0",
          "state": {
            "_model_module": "@jupyter-widgets/controls",
            "_model_module_version": "1.5.0",
            "_model_name": "DescriptionStyleModel",
            "_view_count": null,
            "_view_module": "@jupyter-widgets/base",
            "_view_module_version": "1.2.0",
            "_view_name": "StyleView",
            "description_width": ""
          }
        },
        "2d4dcbbe22ac4e569b028668acf27964": {
          "model_module": "@jupyter-widgets/controls",
          "model_name": "HBoxModel",
          "model_module_version": "1.5.0",
          "state": {
            "_dom_classes": [],
            "_model_module": "@jupyter-widgets/controls",
            "_model_module_version": "1.5.0",
            "_model_name": "HBoxModel",
            "_view_count": null,
            "_view_module": "@jupyter-widgets/controls",
            "_view_module_version": "1.5.0",
            "_view_name": "HBoxView",
            "box_style": "",
            "children": [
              "IPY_MODEL_f2f5bb9f4afa44eab00a917c5f0ec774",
              "IPY_MODEL_8c7db268ef434da5a1febdf62904d8b8",
              "IPY_MODEL_4226e93513be4f6c8723847d8bcf612f"
            ],
            "layout": "IPY_MODEL_8ce5ee6722e04a4884466ac4445886c6"
          }
        },
        "f2f5bb9f4afa44eab00a917c5f0ec774": {
          "model_module": "@jupyter-widgets/controls",
          "model_name": "HTMLModel",
          "model_module_version": "1.5.0",
          "state": {
            "_dom_classes": [],
            "_model_module": "@jupyter-widgets/controls",
            "_model_module_version": "1.5.0",
            "_model_name": "HTMLModel",
            "_view_count": null,
            "_view_module": "@jupyter-widgets/controls",
            "_view_module_version": "1.5.0",
            "_view_name": "HTMLView",
            "description": "",
            "description_tooltip": null,
            "layout": "IPY_MODEL_d73d3433cdc5413398c4631527c727eb",
            "placeholder": "​",
            "style": "IPY_MODEL_fe6ed9e83f5546018e58b2fd60c37a28",
            "value": "model.safetensors: 100%"
          }
        },
        "8c7db268ef434da5a1febdf62904d8b8": {
          "model_module": "@jupyter-widgets/controls",
          "model_name": "FloatProgressModel",
          "model_module_version": "1.5.0",
          "state": {
            "_dom_classes": [],
            "_model_module": "@jupyter-widgets/controls",
            "_model_module_version": "1.5.0",
            "_model_name": "FloatProgressModel",
            "_view_count": null,
            "_view_module": "@jupyter-widgets/controls",
            "_view_module_version": "1.5.0",
            "_view_name": "ProgressView",
            "bar_style": "success",
            "description": "",
            "description_tooltip": null,
            "layout": "IPY_MODEL_52bc61e120c34ee899cf3842d38f0be3",
            "max": 440449768,
            "min": 0,
            "orientation": "horizontal",
            "style": "IPY_MODEL_fd23b2632e8b41f3bce34b8e0209ba50",
            "value": 440449768
          }
        },
        "4226e93513be4f6c8723847d8bcf612f": {
          "model_module": "@jupyter-widgets/controls",
          "model_name": "HTMLModel",
          "model_module_version": "1.5.0",
          "state": {
            "_dom_classes": [],
            "_model_module": "@jupyter-widgets/controls",
            "_model_module_version": "1.5.0",
            "_model_name": "HTMLModel",
            "_view_count": null,
            "_view_module": "@jupyter-widgets/controls",
            "_view_module_version": "1.5.0",
            "_view_name": "HTMLView",
            "description": "",
            "description_tooltip": null,
            "layout": "IPY_MODEL_f9cc86789a7b48c68b0efafd29177d16",
            "placeholder": "​",
            "style": "IPY_MODEL_3e7025474c8f4c0ca3d5d21f122bb7da",
            "value": " 440M/440M [00:02&lt;00:00, 174MB/s]"
          }
        },
        "8ce5ee6722e04a4884466ac4445886c6": {
          "model_module": "@jupyter-widgets/base",
          "model_name": "LayoutModel",
          "model_module_version": "1.2.0",
          "state": {
            "_model_module": "@jupyter-widgets/base",
            "_model_module_version": "1.2.0",
            "_model_name": "LayoutModel",
            "_view_count": null,
            "_view_module": "@jupyter-widgets/base",
            "_view_module_version": "1.2.0",
            "_view_name": "LayoutView",
            "align_content": null,
            "align_items": null,
            "align_self": null,
            "border": null,
            "bottom": null,
            "display": null,
            "flex": null,
            "flex_flow": null,
            "grid_area": null,
            "grid_auto_columns": null,
            "grid_auto_flow": null,
            "grid_auto_rows": null,
            "grid_column": null,
            "grid_gap": null,
            "grid_row": null,
            "grid_template_areas": null,
            "grid_template_columns": null,
            "grid_template_rows": null,
            "height": null,
            "justify_content": null,
            "justify_items": null,
            "left": null,
            "margin": null,
            "max_height": null,
            "max_width": null,
            "min_height": null,
            "min_width": null,
            "object_fit": null,
            "object_position": null,
            "order": null,
            "overflow": null,
            "overflow_x": null,
            "overflow_y": null,
            "padding": null,
            "right": null,
            "top": null,
            "visibility": null,
            "width": null
          }
        },
        "d73d3433cdc5413398c4631527c727eb": {
          "model_module": "@jupyter-widgets/base",
          "model_name": "LayoutModel",
          "model_module_version": "1.2.0",
          "state": {
            "_model_module": "@jupyter-widgets/base",
            "_model_module_version": "1.2.0",
            "_model_name": "LayoutModel",
            "_view_count": null,
            "_view_module": "@jupyter-widgets/base",
            "_view_module_version": "1.2.0",
            "_view_name": "LayoutView",
            "align_content": null,
            "align_items": null,
            "align_self": null,
            "border": null,
            "bottom": null,
            "display": null,
            "flex": null,
            "flex_flow": null,
            "grid_area": null,
            "grid_auto_columns": null,
            "grid_auto_flow": null,
            "grid_auto_rows": null,
            "grid_column": null,
            "grid_gap": null,
            "grid_row": null,
            "grid_template_areas": null,
            "grid_template_columns": null,
            "grid_template_rows": null,
            "height": null,
            "justify_content": null,
            "justify_items": null,
            "left": null,
            "margin": null,
            "max_height": null,
            "max_width": null,
            "min_height": null,
            "min_width": null,
            "object_fit": null,
            "object_position": null,
            "order": null,
            "overflow": null,
            "overflow_x": null,
            "overflow_y": null,
            "padding": null,
            "right": null,
            "top": null,
            "visibility": null,
            "width": null
          }
        },
        "fe6ed9e83f5546018e58b2fd60c37a28": {
          "model_module": "@jupyter-widgets/controls",
          "model_name": "DescriptionStyleModel",
          "model_module_version": "1.5.0",
          "state": {
            "_model_module": "@jupyter-widgets/controls",
            "_model_module_version": "1.5.0",
            "_model_name": "DescriptionStyleModel",
            "_view_count": null,
            "_view_module": "@jupyter-widgets/base",
            "_view_module_version": "1.2.0",
            "_view_name": "StyleView",
            "description_width": ""
          }
        },
        "52bc61e120c34ee899cf3842d38f0be3": {
          "model_module": "@jupyter-widgets/base",
          "model_name": "LayoutModel",
          "model_module_version": "1.2.0",
          "state": {
            "_model_module": "@jupyter-widgets/base",
            "_model_module_version": "1.2.0",
            "_model_name": "LayoutModel",
            "_view_count": null,
            "_view_module": "@jupyter-widgets/base",
            "_view_module_version": "1.2.0",
            "_view_name": "LayoutView",
            "align_content": null,
            "align_items": null,
            "align_self": null,
            "border": null,
            "bottom": null,
            "display": null,
            "flex": null,
            "flex_flow": null,
            "grid_area": null,
            "grid_auto_columns": null,
            "grid_auto_flow": null,
            "grid_auto_rows": null,
            "grid_column": null,
            "grid_gap": null,
            "grid_row": null,
            "grid_template_areas": null,
            "grid_template_columns": null,
            "grid_template_rows": null,
            "height": null,
            "justify_content": null,
            "justify_items": null,
            "left": null,
            "margin": null,
            "max_height": null,
            "max_width": null,
            "min_height": null,
            "min_width": null,
            "object_fit": null,
            "object_position": null,
            "order": null,
            "overflow": null,
            "overflow_x": null,
            "overflow_y": null,
            "padding": null,
            "right": null,
            "top": null,
            "visibility": null,
            "width": null
          }
        },
        "fd23b2632e8b41f3bce34b8e0209ba50": {
          "model_module": "@jupyter-widgets/controls",
          "model_name": "ProgressStyleModel",
          "model_module_version": "1.5.0",
          "state": {
            "_model_module": "@jupyter-widgets/controls",
            "_model_module_version": "1.5.0",
            "_model_name": "ProgressStyleModel",
            "_view_count": null,
            "_view_module": "@jupyter-widgets/base",
            "_view_module_version": "1.2.0",
            "_view_name": "StyleView",
            "bar_color": null,
            "description_width": ""
          }
        },
        "f9cc86789a7b48c68b0efafd29177d16": {
          "model_module": "@jupyter-widgets/base",
          "model_name": "LayoutModel",
          "model_module_version": "1.2.0",
          "state": {
            "_model_module": "@jupyter-widgets/base",
            "_model_module_version": "1.2.0",
            "_model_name": "LayoutModel",
            "_view_count": null,
            "_view_module": "@jupyter-widgets/base",
            "_view_module_version": "1.2.0",
            "_view_name": "LayoutView",
            "align_content": null,
            "align_items": null,
            "align_self": null,
            "border": null,
            "bottom": null,
            "display": null,
            "flex": null,
            "flex_flow": null,
            "grid_area": null,
            "grid_auto_columns": null,
            "grid_auto_flow": null,
            "grid_auto_rows": null,
            "grid_column": null,
            "grid_gap": null,
            "grid_row": null,
            "grid_template_areas": null,
            "grid_template_columns": null,
            "grid_template_rows": null,
            "height": null,
            "justify_content": null,
            "justify_items": null,
            "left": null,
            "margin": null,
            "max_height": null,
            "max_width": null,
            "min_height": null,
            "min_width": null,
            "object_fit": null,
            "object_position": null,
            "order": null,
            "overflow": null,
            "overflow_x": null,
            "overflow_y": null,
            "padding": null,
            "right": null,
            "top": null,
            "visibility": null,
            "width": null
          }
        },
        "3e7025474c8f4c0ca3d5d21f122bb7da": {
          "model_module": "@jupyter-widgets/controls",
          "model_name": "DescriptionStyleModel",
          "model_module_version": "1.5.0",
          "state": {
            "_model_module": "@jupyter-widgets/controls",
            "_model_module_version": "1.5.0",
            "_model_name": "DescriptionStyleModel",
            "_view_count": null,
            "_view_module": "@jupyter-widgets/base",
            "_view_module_version": "1.2.0",
            "_view_name": "StyleView",
            "description_width": ""
          }
        }
      }
    }
  },
  "cells": [
    {
      "cell_type": "markdown",
      "source": [
        "# **5. Sentiment analysis using Transformer models.**"
      ],
      "metadata": {
        "id": "UkFWLywwiMA6"
      }
    },
    {
      "cell_type": "markdown",
      "metadata": {
        "id": "0iiiiTC0XNF7"
      },
      "source": [
        "# Analyzing movie reviews using transformers\n",
        "\n",
        "This problem asks you to train a sentiment analysis model using the BERT (Bidirectional Encoder Representations from Transformers) model, introduced [here](https://arxiv.org/abs/1810.04805). Specifically, we will parse movie reviews and classify their sentiment (according to whether they are positive or negative.)\n",
        "\n",
        "We will use the [Huggingface transformers library](https://github.com/huggingface/transformers) to load a pre-trained BERT model to compute text embeddings, and append this with an RNN model to perform sentiment classification."
      ]
    },
    {
      "cell_type": "markdown",
      "metadata": {
        "id": "7agOLdvIXNF8"
      },
      "source": [
        "## Data preparation\n",
        "\n",
        "Before delving into the model training, let's first do some basic data processing. The first challenge in NLP is to encode text into vector-style representations. This is done by a process called *tokenization*."
      ]
    },
    {
      "cell_type": "code",
      "metadata": {
        "id": "b0tRhbLFXNF8"
      },
      "source": [
        "import torch\n",
        "import random\n",
        "import numpy as np\n",
        "\n",
        "SEED = 1234\n",
        "\n",
        "random.seed(SEED)\n",
        "np.random.seed(SEED)\n",
        "torch.manual_seed(SEED)\n",
        "torch.backends.cudnn.deterministic = True"
      ],
      "execution_count": 1,
      "outputs": []
    },
    {
      "cell_type": "markdown",
      "metadata": {
        "id": "d-c9-tAEXNF9"
      },
      "source": [
        "Let us load the transformers library first."
      ]
    },
    {
      "cell_type": "code",
      "metadata": {
        "id": "iwd4yeyAXg2W",
        "colab": {
          "base_uri": "https://localhost:8080/"
        },
        "outputId": "935eed76-7ac3-44f9-b657-b5d0c942d0c7"
      },
      "source": [
        "!pip install transformers"
      ],
      "execution_count": 2,
      "outputs": [
        {
          "output_type": "stream",
          "name": "stdout",
          "text": [
            "Requirement already satisfied: transformers in /usr/local/lib/python3.10/dist-packages (4.38.2)\n",
            "Requirement already satisfied: filelock in /usr/local/lib/python3.10/dist-packages (from transformers) (3.13.1)\n",
            "Requirement already satisfied: huggingface-hub<1.0,>=0.19.3 in /usr/local/lib/python3.10/dist-packages (from transformers) (0.20.3)\n",
            "Requirement already satisfied: numpy>=1.17 in /usr/local/lib/python3.10/dist-packages (from transformers) (1.25.2)\n",
            "Requirement already satisfied: packaging>=20.0 in /usr/local/lib/python3.10/dist-packages (from transformers) (24.0)\n",
            "Requirement already satisfied: pyyaml>=5.1 in /usr/local/lib/python3.10/dist-packages (from transformers) (6.0.1)\n",
            "Requirement already satisfied: regex!=2019.12.17 in /usr/local/lib/python3.10/dist-packages (from transformers) (2023.12.25)\n",
            "Requirement already satisfied: requests in /usr/local/lib/python3.10/dist-packages (from transformers) (2.31.0)\n",
            "Requirement already satisfied: tokenizers<0.19,>=0.14 in /usr/local/lib/python3.10/dist-packages (from transformers) (0.15.2)\n",
            "Requirement already satisfied: safetensors>=0.4.1 in /usr/local/lib/python3.10/dist-packages (from transformers) (0.4.2)\n",
            "Requirement already satisfied: tqdm>=4.27 in /usr/local/lib/python3.10/dist-packages (from transformers) (4.66.2)\n",
            "Requirement already satisfied: fsspec>=2023.5.0 in /usr/local/lib/python3.10/dist-packages (from huggingface-hub<1.0,>=0.19.3->transformers) (2023.6.0)\n",
            "Requirement already satisfied: typing-extensions>=3.7.4.3 in /usr/local/lib/python3.10/dist-packages (from huggingface-hub<1.0,>=0.19.3->transformers) (4.10.0)\n",
            "Requirement already satisfied: charset-normalizer<4,>=2 in /usr/local/lib/python3.10/dist-packages (from requests->transformers) (3.3.2)\n",
            "Requirement already satisfied: idna<4,>=2.5 in /usr/local/lib/python3.10/dist-packages (from requests->transformers) (3.6)\n",
            "Requirement already satisfied: urllib3<3,>=1.21.1 in /usr/local/lib/python3.10/dist-packages (from requests->transformers) (2.0.7)\n",
            "Requirement already satisfied: certifi>=2017.4.17 in /usr/local/lib/python3.10/dist-packages (from requests->transformers) (2024.2.2)\n"
          ]
        }
      ]
    },
    {
      "cell_type": "markdown",
      "metadata": {
        "id": "7WXwGDzg-V9K"
      },
      "source": [
        "Each transformer model is associated with a particular approach of tokenizing the input text.  We will use the `bert-base-uncased` model below, so let's examine its corresponding tokenizer.\n",
        "\n"
      ]
    },
    {
      "cell_type": "code",
      "metadata": {
        "id": "CzpSwDm2XNF9",
        "colab": {
          "base_uri": "https://localhost:8080/",
          "height": 272,
          "referenced_widgets": [
            "33610a3b35ac4f57890c72c918075b20",
            "82762a324a4b43bc893deed0cd6b572e",
            "37b0e2b757134fe39d770f0a0b923f9c",
            "d51af6481a834790a1fad11ae9f544a0",
            "3fdce5d721ac46f7be9d8159180d32b0",
            "22e6fe0f9f6e4a0ab2e330b6aaa530d8",
            "13d09dbb4f504e15ab0dcd6258c6ab3c",
            "35b4932a64254a92a69b81e2bbb2bdfd",
            "05226d634b8e4ce2b110ba6fd807d780",
            "1d9133cbb9d74870af650e7171e35d8c",
            "16e1ee9c623342f08f78a8d669ff3f1c",
            "8f7be1bdd9244afdbc84fa5e005e8cbc",
            "c437294c34ab4afca8fe3a1c131b6b52",
            "24479b0d430e4bcfadaa97d1a88866c0",
            "80770529f2df48be8156ff4f06858996",
            "df9419c4e4074326a902b3dd8e0fb818",
            "73c07376be034c38a7d6d27d8fe8ebcf",
            "324fa4a236ba48ab9c6c48c8e9043f29",
            "78ab8ffc4181420597fde07359f6c3cb",
            "e85500e7fd0645b5a58e31cc00c531df",
            "2cd199a9f2fe4097a6dcb25891327bff",
            "11914eada99c4dc185c8a16bb8438a13",
            "75fdd92bc51e43298429e7caa295bf99",
            "e330ebc8f54547789d68bfd297863005",
            "091331ee9d3a471a986fe3be68d8ce62",
            "95fb2b62a8aa4a84ab5024064c59014d",
            "fc925ed403e64e27b8f6489f26da5a7c",
            "3362ee028a244ccba3f7dfcd094a6bed",
            "833dc48021834b299db7fe87350e7a7a",
            "bfb06d66d4fc4431833fbc0c3f9350f0",
            "a813f56b02c5402a92ca3248b6cef376",
            "5734e61937784fccb589f67c215bd9cc",
            "1d11f97cd7f64a0e850686064c37ced0",
            "0ca0aa570ad14beca3ca19b3a22b6d39",
            "bd7b99f8ca204d368266c4df3d2b8acf",
            "470faf586b5442bcb33cc5a53c95cb3a",
            "0f670599dee1493b8148363281ac81f5",
            "55712c9a71664041b1e8a9db734c5a28",
            "c0c91d59135f4203840173fa5f199bec",
            "b87d6375b77c4eb98b693800e759b19a",
            "7d3120198f9e44d6b466aa9d7d35370e",
            "b7207f93f90046c38968785dfbdcb4c5",
            "c6f1bbe62a9c4ecd914ce649f454f3b7",
            "c95a05354ea1452f80bfc342a52c3981"
          ]
        },
        "outputId": "88358d41-47ea-4c2f-cd2f-a53e883b5669"
      },
      "source": [
        "from transformers import BertTokenizer\n",
        "\n",
        "tokenizer = BertTokenizer.from_pretrained('bert-base-uncased')"
      ],
      "execution_count": 3,
      "outputs": [
        {
          "output_type": "stream",
          "name": "stderr",
          "text": [
            "/usr/local/lib/python3.10/dist-packages/huggingface_hub/utils/_token.py:88: UserWarning: \n",
            "The secret `HF_TOKEN` does not exist in your Colab secrets.\n",
            "To authenticate with the Hugging Face Hub, create a token in your settings tab (https://huggingface.co/settings/tokens), set it as secret in your Google Colab and restart your session.\n",
            "You will be able to reuse this secret in all of your notebooks.\n",
            "Please note that authentication is recommended but still optional to access public models or datasets.\n",
            "  warnings.warn(\n"
          ]
        },
        {
          "output_type": "display_data",
          "data": {
            "text/plain": [
              "tokenizer_config.json:   0%|          | 0.00/48.0 [00:00<?, ?B/s]"
            ],
            "application/vnd.jupyter.widget-view+json": {
              "version_major": 2,
              "version_minor": 0,
              "model_id": "33610a3b35ac4f57890c72c918075b20"
            }
          },
          "metadata": {}
        },
        {
          "output_type": "display_data",
          "data": {
            "text/plain": [
              "vocab.txt:   0%|          | 0.00/232k [00:00<?, ?B/s]"
            ],
            "application/vnd.jupyter.widget-view+json": {
              "version_major": 2,
              "version_minor": 0,
              "model_id": "8f7be1bdd9244afdbc84fa5e005e8cbc"
            }
          },
          "metadata": {}
        },
        {
          "output_type": "display_data",
          "data": {
            "text/plain": [
              "tokenizer.json:   0%|          | 0.00/466k [00:00<?, ?B/s]"
            ],
            "application/vnd.jupyter.widget-view+json": {
              "version_major": 2,
              "version_minor": 0,
              "model_id": "75fdd92bc51e43298429e7caa295bf99"
            }
          },
          "metadata": {}
        },
        {
          "output_type": "display_data",
          "data": {
            "text/plain": [
              "config.json:   0%|          | 0.00/570 [00:00<?, ?B/s]"
            ],
            "application/vnd.jupyter.widget-view+json": {
              "version_major": 2,
              "version_minor": 0,
              "model_id": "0ca0aa570ad14beca3ca19b3a22b6d39"
            }
          },
          "metadata": {}
        }
      ]
    },
    {
      "cell_type": "markdown",
      "metadata": {
        "id": "UoMwhigMXNF9"
      },
      "source": [
        "The `tokenizer` has a `vocab` attribute which contains the actual vocabulary we will be using. First, let us discover how many tokens are in this language model by checking its length."
      ]
    },
    {
      "cell_type": "code",
      "metadata": {
        "id": "D6iwFKmgXNF-",
        "colab": {
          "base_uri": "https://localhost:8080/"
        },
        "outputId": "bd27825c-ca21-4cbb-b486-604a5c8d3d76"
      },
      "source": [
        "# Q1a: Print the size of the vocabulary of the above tokenizer.\n",
        "print(\"Size:\", tokenizer.vocab_size)"
      ],
      "execution_count": 4,
      "outputs": [
        {
          "output_type": "stream",
          "name": "stdout",
          "text": [
            "Size: 30522\n"
          ]
        }
      ]
    },
    {
      "cell_type": "markdown",
      "metadata": {
        "id": "cpjHi3GEXNF_"
      },
      "source": [
        "Using the tokenizer is as simple as calling `tokenizer.tokenize` on a string. This will tokenize and lower case the data in a way that is consistent with the pre-trained transformer model."
      ]
    },
    {
      "cell_type": "code",
      "metadata": {
        "id": "jSfW82kYXNF_",
        "colab": {
          "base_uri": "https://localhost:8080/"
        },
        "outputId": "f79d050e-b3a7-4c6f-d4b3-1ab9b55d810b"
      },
      "source": [
        "tokens = tokenizer.tokenize('Hello WORLD how ARE yoU?')\n",
        "\n",
        "print(tokens)"
      ],
      "execution_count": 5,
      "outputs": [
        {
          "output_type": "stream",
          "name": "stdout",
          "text": [
            "['hello', 'world', 'how', 'are', 'you', '?']\n"
          ]
        }
      ]
    },
    {
      "cell_type": "markdown",
      "metadata": {
        "id": "wS1LH_izXNGA"
      },
      "source": [
        "We can numericalize tokens using our vocabulary using `tokenizer.convert_tokens_to_ids`."
      ]
    },
    {
      "cell_type": "code",
      "metadata": {
        "id": "ujCny94UXNGA",
        "colab": {
          "base_uri": "https://localhost:8080/"
        },
        "outputId": "f358333a-675b-4995-8363-66d0645fe9d8"
      },
      "source": [
        "indexes = tokenizer.convert_tokens_to_ids(tokens)\n",
        "\n",
        "print(indexes)"
      ],
      "execution_count": 6,
      "outputs": [
        {
          "output_type": "stream",
          "name": "stdout",
          "text": [
            "[7592, 2088, 2129, 2024, 2017, 1029]\n"
          ]
        }
      ]
    },
    {
      "cell_type": "markdown",
      "metadata": {
        "id": "qlqKy-QDXNGB"
      },
      "source": [
        "The transformer was also trained with special tokens to mark the beginning and end of the sentence, as well as a standard padding and unknown token.\n",
        "\n",
        "Let us declare them."
      ]
    },
    {
      "cell_type": "code",
      "metadata": {
        "id": "BnP1nxOSXNGB",
        "colab": {
          "base_uri": "https://localhost:8080/"
        },
        "outputId": "a8600783-c411-489d-8ea1-6031865d43cc"
      },
      "source": [
        "init_token = tokenizer.cls_token\n",
        "eos_token = tokenizer.sep_token\n",
        "pad_token = tokenizer.pad_token\n",
        "unk_token = tokenizer.unk_token\n",
        "\n",
        "print(init_token, eos_token, pad_token, unk_token)"
      ],
      "execution_count": 7,
      "outputs": [
        {
          "output_type": "stream",
          "name": "stdout",
          "text": [
            "[CLS] [SEP] [PAD] [UNK]\n"
          ]
        }
      ]
    },
    {
      "cell_type": "markdown",
      "metadata": {
        "id": "dFwa5Zb2XNGB"
      },
      "source": [
        "We can call a function to find the indices of the special tokens."
      ]
    },
    {
      "cell_type": "code",
      "metadata": {
        "id": "p_9UTs7NXNGC",
        "colab": {
          "base_uri": "https://localhost:8080/"
        },
        "outputId": "728f14ab-308d-4e12-8058-9d73ddcb5b9b"
      },
      "source": [
        "init_token_idx = tokenizer.convert_tokens_to_ids(init_token)\n",
        "eos_token_idx = tokenizer.convert_tokens_to_ids(eos_token)\n",
        "pad_token_idx = tokenizer.convert_tokens_to_ids(pad_token)\n",
        "unk_token_idx = tokenizer.convert_tokens_to_ids(unk_token)\n",
        "\n",
        "print(init_token_idx, eos_token_idx, pad_token_idx, unk_token_idx)"
      ],
      "execution_count": 8,
      "outputs": [
        {
          "output_type": "stream",
          "name": "stdout",
          "text": [
            "101 102 0 100\n"
          ]
        }
      ]
    },
    {
      "cell_type": "markdown",
      "metadata": {
        "id": "-EBbWe8kXNGC"
      },
      "source": [
        "We can also find the maximum length of these input sizes by checking the `max_model_input_sizes` attribute (for this model, it is 512 tokens)."
      ]
    },
    {
      "cell_type": "code",
      "source": [
        "tokenizer.max_model_input_sizes.keys()"
      ],
      "metadata": {
        "colab": {
          "base_uri": "https://localhost:8080/"
        },
        "id": "fFlUEL9-BAYm",
        "outputId": "09f24e9a-1da5-4182-c0f4-a23f5b2e87cb"
      },
      "execution_count": 9,
      "outputs": [
        {
          "output_type": "execute_result",
          "data": {
            "text/plain": [
              "dict_keys(['google-bert/bert-base-uncased', 'google-bert/bert-large-uncased', 'google-bert/bert-base-cased', 'google-bert/bert-large-cased', 'google-bert/bert-base-multilingual-uncased', 'google-bert/bert-base-multilingual-cased', 'google-bert/bert-base-chinese', 'google-bert/bert-base-german-cased', 'google-bert/bert-large-uncased-whole-word-masking', 'google-bert/bert-large-cased-whole-word-masking', 'google-bert/bert-large-uncased-whole-word-masking-finetuned-squad', 'google-bert/bert-large-cased-whole-word-masking-finetuned-squad', 'google-bert/bert-base-cased-finetuned-mrpc', 'google-bert/bert-base-german-dbmdz-cased', 'google-bert/bert-base-german-dbmdz-uncased', 'TurkuNLP/bert-base-finnish-cased-v1', 'TurkuNLP/bert-base-finnish-uncased-v1', 'wietsedv/bert-base-dutch-cased'])"
            ]
          },
          "metadata": {},
          "execution_count": 9
        }
      ]
    },
    {
      "cell_type": "code",
      "metadata": {
        "id": "fm7tV-B5XNGD"
      },
      "source": [
        "max_input_length = tokenizer.max_model_input_sizes['google-bert/bert-base-uncased']"
      ],
      "execution_count": 10,
      "outputs": []
    },
    {
      "cell_type": "code",
      "source": [
        "max_input_length"
      ],
      "metadata": {
        "colab": {
          "base_uri": "https://localhost:8080/"
        },
        "id": "GVjeexCqBD-g",
        "outputId": "8200782c-d713-460e-fe20-25a3bdd859bd"
      },
      "execution_count": 11,
      "outputs": [
        {
          "output_type": "execute_result",
          "data": {
            "text/plain": [
              "512"
            ]
          },
          "metadata": {},
          "execution_count": 11
        }
      ]
    },
    {
      "cell_type": "markdown",
      "metadata": {
        "id": "xtXjE8NxXNGD"
      },
      "source": [
        "Let us now define a function to tokenize any sentence, and cut length down to 510 tokens (we need one special `start` and `end` token for each sentence)."
      ]
    },
    {
      "cell_type": "code",
      "metadata": {
        "id": "3kyu0BmUXNGD"
      },
      "source": [
        "def tokenize_and_cut(sentence):\n",
        "    tokens = tokenizer.tokenize(sentence)\n",
        "    tokens = tokens[:max_input_length-2]\n",
        "    return tokens"
      ],
      "execution_count": 12,
      "outputs": []
    },
    {
      "cell_type": "markdown",
      "metadata": {
        "id": "JZGN3-pQXNGD"
      },
      "source": [
        "Finally, we are ready to load our dataset. We will use the [IMDB Moview Reviews](https://huggingface.co/datasets/imdb) dataset. Let us also split the train dataset to form a small validation set (to keep track of the best model)."
      ]
    },
    {
      "cell_type": "code",
      "source": [
        "!pip install -q torchtext==0.6.0"
      ],
      "metadata": {
        "colab": {
          "base_uri": "https://localhost:8080/"
        },
        "id": "y8T2X8NNFP90",
        "outputId": "ba3726ce-8df1-4aaa-8344-dde385a01a34"
      },
      "execution_count": 13,
      "outputs": [
        {
          "output_type": "stream",
          "name": "stdout",
          "text": [
            "\u001b[2K     \u001b[90m━━━━━━━━━━━━━━━━━━━━━━━━━━━━━━━━━━━━━━━━\u001b[0m \u001b[32m64.2/64.2 kB\u001b[0m \u001b[31m976.8 kB/s\u001b[0m eta \u001b[36m0:00:00\u001b[0m\n",
            "\u001b[2K     \u001b[90m━━━━━━━━━━━━━━━━━━━━━━━━━━━━━━━━━━━━━━━━\u001b[0m \u001b[32m23.7/23.7 MB\u001b[0m \u001b[31m28.1 MB/s\u001b[0m eta \u001b[36m0:00:00\u001b[0m\n",
            "\u001b[2K     \u001b[90m━━━━━━━━━━━━━━━━━━━━━━━━━━━━━━━━━━━━━━━━\u001b[0m \u001b[32m823.6/823.6 kB\u001b[0m \u001b[31m29.0 MB/s\u001b[0m eta \u001b[36m0:00:00\u001b[0m\n",
            "\u001b[2K     \u001b[90m━━━━━━━━━━━━━━━━━━━━━━━━━━━━━━━━━━━━━━━━\u001b[0m \u001b[32m14.1/14.1 MB\u001b[0m \u001b[31m27.2 MB/s\u001b[0m eta \u001b[36m0:00:00\u001b[0m\n",
            "\u001b[2K     \u001b[90m━━━━━━━━━━━━━━━━━━━━━━━━━━━━━━━━━━━━━━━━\u001b[0m \u001b[32m731.7/731.7 MB\u001b[0m \u001b[31m916.3 kB/s\u001b[0m eta \u001b[36m0:00:00\u001b[0m\n",
            "\u001b[2K     \u001b[90m━━━━━━━━━━━━━━━━━━━━━━━━━━━━━━━━━━━━━━━━\u001b[0m \u001b[32m410.6/410.6 MB\u001b[0m \u001b[31m1.5 MB/s\u001b[0m eta \u001b[36m0:00:00\u001b[0m\n",
            "\u001b[2K     \u001b[90m━━━━━━━━━━━━━━━━━━━━━━━━━━━━━━━━━━━━━━━━\u001b[0m \u001b[32m121.6/121.6 MB\u001b[0m \u001b[31m1.4 MB/s\u001b[0m eta \u001b[36m0:00:00\u001b[0m\n",
            "\u001b[2K     \u001b[90m━━━━━━━━━━━━━━━━━━━━━━━━━━━━━━━━━━━━━━━━\u001b[0m \u001b[32m56.5/56.5 MB\u001b[0m \u001b[31m1.7 MB/s\u001b[0m eta \u001b[36m0:00:00\u001b[0m\n",
            "\u001b[2K     \u001b[90m━━━━━━━━━━━━━━━━━━━━━━━━━━━━━━━━━━━━━━━━\u001b[0m \u001b[32m124.2/124.2 MB\u001b[0m \u001b[31m1.4 MB/s\u001b[0m eta \u001b[36m0:00:00\u001b[0m\n",
            "\u001b[2K     \u001b[90m━━━━━━━━━━━━━━━━━━━━━━━━━━━━━━━━━━━━━━━━\u001b[0m \u001b[32m196.0/196.0 MB\u001b[0m \u001b[31m2.7 MB/s\u001b[0m eta \u001b[36m0:00:00\u001b[0m\n",
            "\u001b[2K     \u001b[90m━━━━━━━━━━━━━━━━━━━━━━━━━━━━━━━━━━━━━━━━\u001b[0m \u001b[32m166.0/166.0 MB\u001b[0m \u001b[31m2.3 MB/s\u001b[0m eta \u001b[36m0:00:00\u001b[0m\n",
            "\u001b[2K     \u001b[90m━━━━━━━━━━━━━━━━━━━━━━━━━━━━━━━━━━━━━━━━\u001b[0m \u001b[32m99.1/99.1 kB\u001b[0m \u001b[31m1.9 MB/s\u001b[0m eta \u001b[36m0:00:00\u001b[0m\n",
            "\u001b[2K     \u001b[90m━━━━━━━━━━━━━━━━━━━━━━━━━━━━━━━━━━━━━━━━\u001b[0m \u001b[32m21.1/21.1 MB\u001b[0m \u001b[31m3.2 MB/s\u001b[0m eta \u001b[36m0:00:00\u001b[0m\n",
            "\u001b[?25h"
          ]
        }
      ]
    },
    {
      "cell_type": "code",
      "source": [
        "from torchtext import data, datasets\n",
        "from torchtext.vocab import Vocab"
      ],
      "metadata": {
        "id": "bfrQWSdlD-Hs"
      },
      "execution_count": 14,
      "outputs": []
    },
    {
      "cell_type": "code",
      "source": [
        "TEXT = data.Field(batch_first = True,\n",
        "                  use_vocab = False,\n",
        "                  tokenize = tokenize_and_cut,\n",
        "                  preprocessing = tokenizer.convert_tokens_to_ids,\n",
        "                  init_token = init_token_idx,\n",
        "                  eos_token = eos_token_idx,\n",
        "                  pad_token = pad_token_idx,\n",
        "                  unk_token = unk_token_idx)\n",
        "\n",
        "LABEL = data.LabelField(dtype = torch.float)"
      ],
      "metadata": {
        "id": "i88QR9TEGCSO"
      },
      "execution_count": 15,
      "outputs": []
    },
    {
      "cell_type": "code",
      "metadata": {
        "id": "qCO5bDpLXNGD"
      },
      "source": [
        "# from torchtext.legacy import data\n",
        "\n",
        "# TEXT = data.Field(batch_first = True,\n",
        "#                   use_vocab = False,\n",
        "#                   tokenize = tokenize_and_cut,\n",
        "#                   preprocessing = tokenizer.convert_tokens_to_ids,\n",
        "#                   init_token = init_token_idx,\n",
        "#                   eos_token = eos_token_idx,\n",
        "#                   pad_token = pad_token_idx,\n",
        "#                   unk_token = unk_token_idx)\n",
        "\n",
        "# LABEL = data.LabelField(dtype = torch.float)"
      ],
      "execution_count": 16,
      "outputs": []
    },
    {
      "cell_type": "code",
      "metadata": {
        "id": "uVA1xdigXNGD",
        "colab": {
          "base_uri": "https://localhost:8080/"
        },
        "outputId": "dc4cfe65-b08f-4a08-bcab-ad445f33f095"
      },
      "source": [
        "# from torchtext.legacy import datasets\n",
        "\n",
        "train_data, test_data = datasets.IMDB.splits(TEXT, LABEL)\n",
        "\n",
        "train_data, valid_data = train_data.split(random_state = random.seed(SEED))"
      ],
      "execution_count": 17,
      "outputs": [
        {
          "output_type": "stream",
          "name": "stdout",
          "text": [
            "downloading aclImdb_v1.tar.gz\n"
          ]
        },
        {
          "output_type": "stream",
          "name": "stderr",
          "text": [
            "aclImdb_v1.tar.gz: 100%|██████████| 84.1M/84.1M [00:04<00:00, 20.7MB/s]\n"
          ]
        }
      ]
    },
    {
      "cell_type": "markdown",
      "metadata": {
        "id": "WRTREe6iDoHm"
      },
      "source": [
        "Let us examine the size of the train, validation, and test dataset."
      ]
    },
    {
      "cell_type": "code",
      "metadata": {
        "id": "6_Zp4SJ-XNGE",
        "colab": {
          "base_uri": "https://localhost:8080/"
        },
        "outputId": "00b1fcf1-d883-4969-901d-4c172d4bfeda"
      },
      "source": [
        "# Q1b. Print the number of data points in the train, test, and validation sets.\n",
        "print(len(train_data))\n",
        "print(len(test_data))\n",
        "print(len(valid_data))"
      ],
      "execution_count": 18,
      "outputs": [
        {
          "output_type": "stream",
          "name": "stdout",
          "text": [
            "17500\n",
            "25000\n",
            "7500\n"
          ]
        }
      ]
    },
    {
      "cell_type": "markdown",
      "metadata": {
        "id": "YjPGXMxAXNGE"
      },
      "source": [
        "We will build a vocabulary for the labels using the `vocab.stoi` mapping."
      ]
    },
    {
      "cell_type": "code",
      "metadata": {
        "id": "7DgA2i4MXNGE"
      },
      "source": [
        "LABEL.build_vocab(train_data)"
      ],
      "execution_count": 19,
      "outputs": []
    },
    {
      "cell_type": "code",
      "metadata": {
        "id": "7Zig9n_HXNGE",
        "colab": {
          "base_uri": "https://localhost:8080/"
        },
        "outputId": "edf788fd-57ba-4a8b-a5c5-3a13045b2ddb"
      },
      "source": [
        "print(LABEL.vocab.stoi)"
      ],
      "execution_count": 20,
      "outputs": [
        {
          "output_type": "stream",
          "name": "stdout",
          "text": [
            "defaultdict(None, {'neg': 0, 'pos': 1})\n"
          ]
        }
      ]
    },
    {
      "cell_type": "markdown",
      "metadata": {
        "id": "_W6FOpOGXNGE"
      },
      "source": [
        "Finally, we will set up the data-loader using a (large) batch size of 128. For text processing, we use the `BucketIterator` class."
      ]
    },
    {
      "cell_type": "code",
      "metadata": {
        "id": "ZuYOlNbgXNGE"
      },
      "source": [
        "BATCH_SIZE = 128\n",
        "\n",
        "device = torch.device('cuda' if torch.cuda.is_available() else 'cpu')\n",
        "\n",
        "train_iterator, valid_iterator, test_iterator = data.BucketIterator.splits(\n",
        "    (train_data, valid_data, test_data),\n",
        "    batch_size = BATCH_SIZE,\n",
        "    device = device)"
      ],
      "execution_count": 21,
      "outputs": []
    },
    {
      "cell_type": "markdown",
      "metadata": {
        "id": "XFoLyjCFXNGE"
      },
      "source": [
        "## Model preparation\n",
        "\n",
        "We will now load our pretrained BERT model. (Keep in mind that we should use the same model as the tokenizer that we chose above)."
      ]
    },
    {
      "cell_type": "code",
      "metadata": {
        "id": "C13zMlxKXNGF",
        "colab": {
          "base_uri": "https://localhost:8080/",
          "height": 49,
          "referenced_widgets": [
            "2d4dcbbe22ac4e569b028668acf27964",
            "f2f5bb9f4afa44eab00a917c5f0ec774",
            "8c7db268ef434da5a1febdf62904d8b8",
            "4226e93513be4f6c8723847d8bcf612f",
            "8ce5ee6722e04a4884466ac4445886c6",
            "d73d3433cdc5413398c4631527c727eb",
            "fe6ed9e83f5546018e58b2fd60c37a28",
            "52bc61e120c34ee899cf3842d38f0be3",
            "fd23b2632e8b41f3bce34b8e0209ba50",
            "f9cc86789a7b48c68b0efafd29177d16",
            "3e7025474c8f4c0ca3d5d21f122bb7da"
          ]
        },
        "outputId": "4e23e328-5144-44b2-e4cc-51c834c44849"
      },
      "source": [
        "from transformers import BertTokenizer, BertModel\n",
        "\n",
        "bert = BertModel.from_pretrained('bert-base-uncased')"
      ],
      "execution_count": 22,
      "outputs": [
        {
          "output_type": "display_data",
          "data": {
            "text/plain": [
              "model.safetensors:   0%|          | 0.00/440M [00:00<?, ?B/s]"
            ],
            "application/vnd.jupyter.widget-view+json": {
              "version_major": 2,
              "version_minor": 0,
              "model_id": "2d4dcbbe22ac4e569b028668acf27964"
            }
          },
          "metadata": {}
        }
      ]
    },
    {
      "cell_type": "markdown",
      "metadata": {
        "id": "NIopY5PfELkZ"
      },
      "source": [
        "As mentioned above, we will append the BERT model with a bidirectional GRU to perform the classification."
      ]
    },
    {
      "cell_type": "code",
      "metadata": {
        "id": "jCKKvxdCXNGF"
      },
      "source": [
        "import torch.nn as nn\n",
        "\n",
        "class BERTGRUSentiment(nn.Module):\n",
        "    def __init__(self,bert,hidden_dim,output_dim,n_layers,bidirectional,dropout):\n",
        "\n",
        "        super().__init__()\n",
        "\n",
        "        self.bert = bert\n",
        "\n",
        "        embedding_dim = bert.config.to_dict()['hidden_size']\n",
        "\n",
        "        self.rnn = nn.GRU(embedding_dim,\n",
        "                          hidden_dim,\n",
        "                          num_layers = n_layers,\n",
        "                          bidirectional = bidirectional,\n",
        "                          batch_first = True,\n",
        "                          dropout = 0 if n_layers < 2 else dropout)\n",
        "\n",
        "        self.out = nn.Linear(hidden_dim * 2 if bidirectional else hidden_dim, output_dim)\n",
        "\n",
        "        self.dropout = nn.Dropout(dropout)\n",
        "\n",
        "    def forward(self, text):\n",
        "\n",
        "        #text = [batch size, sent len]\n",
        "\n",
        "        with torch.no_grad():\n",
        "            embedded = self.bert(text)[0]\n",
        "\n",
        "        #embedded = [batch size, sent len, emb dim]\n",
        "\n",
        "        _, hidden = self.rnn(embedded)\n",
        "\n",
        "        #hidden = [n layers * n directions, batch size, emb dim]\n",
        "\n",
        "        if self.rnn.bidirectional:\n",
        "            hidden = self.dropout(torch.cat((hidden[-2,:,:], hidden[-1,:,:]), dim = 1))\n",
        "        else:\n",
        "            hidden = self.dropout(hidden[-1,:,:])\n",
        "\n",
        "        #hidden = [batch size, hid dim]\n",
        "\n",
        "        output = self.out(hidden)\n",
        "\n",
        "        #output = [batch size, out dim]\n",
        "\n",
        "        return output"
      ],
      "execution_count": 23,
      "outputs": []
    },
    {
      "cell_type": "markdown",
      "metadata": {
        "id": "bLNOMDvWXNGF"
      },
      "source": [
        "Next, we'll define our actual model.\n",
        "\n",
        "Our model will consist of\n",
        "\n",
        "* the BERT embedding (whose weights are frozen)\n",
        "* a bidirectional GRU with 2 layers, with hidden dim 256 and dropout=0.25.\n",
        "* a linear layer on top which does binary sentiment classification."
      ]
    },
    {
      "cell_type": "markdown",
      "metadata": {
        "id": "OSUKiU-bXNGF"
      },
      "source": [
        "Let us create an instance of this model."
      ]
    },
    {
      "cell_type": "code",
      "metadata": {
        "id": "zIt8nNZeXNGF"
      },
      "source": [
        "# Q2a: Instantiate the above model by setting the right hyperparameters.\n",
        "\n",
        "# insert code here\n",
        "class BERTGRUSentiment(nn.Module):\n",
        "    def __init__(self, bert, hidden_dim, output_dim, n_layers, bidirectional, dropout):\n",
        "        super().__init__()\n",
        "\n",
        "        self.bert = bert\n",
        "\n",
        "        embedding_dim = bert.config.to_dict()['hidden_size']\n",
        "\n",
        "        self.rnn = nn.GRU(embedding_dim,\n",
        "                          hidden_dim,\n",
        "                          num_layers=n_layers,\n",
        "                          bidirectional=bidirectional,\n",
        "                          batch_first=True,\n",
        "                          dropout=0 if n_layers < 2 else dropout)\n",
        "\n",
        "        self.out = nn.Linear(hidden_dim * 2 if bidirectional else hidden_dim, output_dim)\n",
        "\n",
        "        self.dropout = nn.Dropout(dropout)\n",
        "\n",
        "    def forward(self, text):\n",
        "        # text shape: [batch_size, max_len]\n",
        "\n",
        "        with torch.no_grad():\n",
        "            embedded = self.bert(text)[0]  # [batch_size, max_len, embedding_dim]\n",
        "\n",
        "        _, hidden = self.rnn(embedded)  # [n_layers * num_directions, batch_size, hidden_dim]\n",
        "\n",
        "        if self.rnn.bidirectional:\n",
        "            hidden = self.dropout(torch.cat((hidden[-2,:,:], hidden[-1,:,:]), dim = 1))\n",
        "        else:\n",
        "            hidden = self.dropout(hidden[-1,:,:])\n",
        "\n",
        "        output = self.out(hidden)  # [batch_size, output_dim]\n",
        "\n",
        "        return output\n",
        "\n",
        "HIDDEN_DIM    = 256\n",
        "OUTPUT_DIM    = 1\n",
        "N_LAYERS      = 2\n",
        "BIDIRECTIONAL = True\n",
        "DROPOUT       = 0.25\n",
        "\n",
        "model = BERTGRUSentiment(bert,\n",
        "                         HIDDEN_DIM,\n",
        "                         OUTPUT_DIM,\n",
        "                         N_LAYERS,\n",
        "                         BIDIRECTIONAL,\n",
        "                         DROPOUT)"
      ],
      "execution_count": 24,
      "outputs": []
    },
    {
      "cell_type": "markdown",
      "metadata": {
        "id": "I0EZFcVoXNGF"
      },
      "source": [
        "We can check how many parameters the model has."
      ]
    },
    {
      "cell_type": "code",
      "metadata": {
        "id": "ypGbLI8JXNGF",
        "colab": {
          "base_uri": "https://localhost:8080/"
        },
        "outputId": "fbb5e4ec-41c6-443a-da2d-0887a78a3105"
      },
      "source": [
        "# Q2b: Print the number of trainable parameters in this model.\n",
        "\n",
        "# insert code here.\n",
        "def count_parameters(model):\n",
        "    return sum(p.numel() for p in model.parameters() if p.requires_grad)\n",
        "\n",
        "print(count_parameters(model))"
      ],
      "execution_count": 25,
      "outputs": [
        {
          "output_type": "stream",
          "name": "stdout",
          "text": [
            "112241409\n"
          ]
        }
      ]
    },
    {
      "cell_type": "markdown",
      "metadata": {
        "id": "8jn_34hiXNGF"
      },
      "source": [
        "Oh no~ if you did this correctly, youy should see that this contains *112 million* parameters. Standard machines (or Colab) cannot handle such large models.\n",
        "\n",
        "However, the majority of these parameters are from the BERT embedding, which we are not going to (re)train. In order to freeze certain parameters we can set their `requires_grad` attribute to `False`. To do this, we simply loop through all of the `named_parameters` in our model and if they're a part of the `bert` transformer model, we set `requires_grad = False`."
      ]
    },
    {
      "cell_type": "code",
      "metadata": {
        "id": "DgMLxKHxXNGF"
      },
      "source": [
        "for name, param in model.named_parameters():\n",
        "    if name.startswith('bert'):\n",
        "        param.requires_grad = False"
      ],
      "execution_count": 26,
      "outputs": []
    },
    {
      "cell_type": "code",
      "metadata": {
        "id": "POzRK-TBXNGF",
        "colab": {
          "base_uri": "https://localhost:8080/"
        },
        "outputId": "9e93044c-e0fc-4ae9-a64d-df1d0609123c"
      },
      "source": [
        "# Q2c: After freezing the BERT weights/biases, print the number of remaining trainable parameters.\n",
        "for name, param in model.named_parameters():\n",
        "    if name.startswith('bert'):\n",
        "        param.requires_grad = False\n",
        "\n",
        "print(count_parameters(model))"
      ],
      "execution_count": 27,
      "outputs": [
        {
          "output_type": "stream",
          "name": "stdout",
          "text": [
            "2759169\n"
          ]
        }
      ]
    },
    {
      "cell_type": "markdown",
      "metadata": {
        "id": "__27RDchXNGF"
      },
      "source": [
        "We should now see that our model has under 3M trainable parameters. Still not trivial but manageable."
      ]
    },
    {
      "cell_type": "markdown",
      "metadata": {
        "id": "oi7nx_A-XNGF"
      },
      "source": [
        "## Train the Model\n",
        "\n",
        "All this is now largely standard.\n",
        "\n",
        "We will use:\n",
        "* the Binary Cross Entropy loss function: `nn.BCEWithLogitsLoss()`\n",
        "* the Adam optimizer\n",
        "\n",
        "and run it for 2 epochs (that should be enough to start getting meaningful results)."
      ]
    },
    {
      "cell_type": "code",
      "metadata": {
        "id": "0l6NYI4aXNGG"
      },
      "source": [
        "import torch.optim as optim\n",
        "\n",
        "optimizer = optim.Adam(model.parameters())"
      ],
      "execution_count": 28,
      "outputs": []
    },
    {
      "cell_type": "code",
      "metadata": {
        "id": "fezxMblzXNGG"
      },
      "source": [
        "criterion = nn.BCEWithLogitsLoss()"
      ],
      "execution_count": 29,
      "outputs": []
    },
    {
      "cell_type": "code",
      "metadata": {
        "id": "JjmPNe0SXNGG"
      },
      "source": [
        "model = model.to(device)\n",
        "criterion = criterion.to(device)"
      ],
      "execution_count": 30,
      "outputs": []
    },
    {
      "cell_type": "markdown",
      "metadata": {
        "id": "yjHDXoJDXNGG"
      },
      "source": [
        "\n",
        "Also, define functions for:\n",
        "* calculating accuracy.\n",
        "* training for a single epoch, and reporting loss/accuracy.\n",
        "* performing an evaluation epoch, and reporting loss/accuracy.\n",
        "* calculating running times."
      ]
    },
    {
      "cell_type": "code",
      "metadata": {
        "id": "Z5UrsZyTXNGG"
      },
      "source": [
        "def binary_accuracy(preds, y):\n",
        "\n",
        "    # Q3a. Compute accuracy (as a number between 0 and 1)\n",
        "    rounded_preds = torch.round(torch.sigmoid(preds))\n",
        "    correct = (rounded_preds == y).float()\n",
        "    acc = correct.sum() / len(correct)\n",
        "    return acc"
      ],
      "execution_count": 31,
      "outputs": []
    },
    {
      "cell_type": "code",
      "metadata": {
        "id": "8p-Xs97uXNGG"
      },
      "source": [
        "def train(model, iterator, optimizer, criterion):\n",
        "\n",
        "    # Q3b. Set up the training function\n",
        "    epoch_loss = 0\n",
        "    epoch_acc = 0\n",
        "\n",
        "    model.train()\n",
        "\n",
        "    for batch in iterator:\n",
        "        optimizer.zero_grad()\n",
        "\n",
        "        batch_predictions = model(batch.text).squeeze(1)\n",
        "\n",
        "        loss_per_batch = criterion(batch_predictions, batch.label)\n",
        "        accuracy_per_batch = binary_accuracy(batch_predictions, batch.label)\n",
        "\n",
        "        loss_per_batch.backward()\n",
        "        optimizer.step()\n",
        "\n",
        "        epoch_loss += loss_per_batch.item()\n",
        "        epoch_acc += accuracy_per_batch.item()\n",
        "\n",
        "    return epoch_loss / len(iterator), epoch_acc / len(iterator)"
      ],
      "execution_count": 32,
      "outputs": []
    },
    {
      "cell_type": "code",
      "metadata": {
        "id": "8cu4vLfpXNGG"
      },
      "source": [
        "def evaluate(model, iterator, criterion):\n",
        "\n",
        "    # Q3c. Set up the evaluation function.\n",
        "    epoch_loss = 0\n",
        "    epoch_acc = 0\n",
        "\n",
        "    model.eval()\n",
        "    with torch.no_grad():\n",
        "        for batch in iterator:\n",
        "            batch_predictions = model(batch.text).squeeze(1)\n",
        "\n",
        "            loss_per_batch = criterion(batch_predictions, batch.label)\n",
        "            accuracy_per_batch = binary_accuracy(batch_predictions, batch.label)\n",
        "\n",
        "            epoch_loss += loss_per_batch.item()\n",
        "            epoch_acc += accuracy_per_batch.item()\n",
        "\n",
        "    return epoch_loss / len(iterator), epoch_acc / len(iterator)"
      ],
      "execution_count": 33,
      "outputs": []
    },
    {
      "cell_type": "code",
      "metadata": {
        "id": "UFn-f7fNXNGG"
      },
      "source": [
        "import time\n",
        "\n",
        "def epoch_time(start_time, end_time):\n",
        "    elapsed_time = end_time - start_time\n",
        "    elapsed_mins = int(elapsed_time / 60)\n",
        "    elapsed_secs = int(elapsed_time - (elapsed_mins * 60))\n",
        "    return elapsed_mins, elapsed_secs"
      ],
      "execution_count": 34,
      "outputs": []
    },
    {
      "cell_type": "markdown",
      "metadata": {
        "id": "sXCsaJPBXNGG"
      },
      "source": [
        "We are now ready to train our model.\n",
        "\n",
        "**Statutory warning**: Training such models will take a very long time since this model is considerably larger than anything we have trained before. Even though we are not training any of the BERT parameters, we still have to make a forward pass. This will take time; each epoch may take upwards of 30 minutes on Colab.\n",
        "\n",
        "Let us train for 2 epochs and print train loss/accuracy and validation loss/accuracy for each epoch. Let us also measure running time.\n",
        "\n",
        "Saving intermediate model checkpoints using  \n",
        "\n",
        "`torch.save(model.state_dict(),'model.pt')`\n",
        "\n",
        "may be helpful with such large models."
      ]
    },
    {
      "cell_type": "code",
      "metadata": {
        "id": "sFbTyZzNXNGG",
        "colab": {
          "base_uri": "https://localhost:8080/"
        },
        "outputId": "c455e500-129d-4b7f-897c-1e6cdf8188fd"
      },
      "source": [
        "N_EPOCHS = 2\n",
        "\n",
        "best_valid_loss = float('inf')\n",
        "\n",
        "for epoch in range(N_EPOCHS):\n",
        "\n",
        "    # Q3d. Perform training/valudation by using the functions you defined earlier.\n",
        "\n",
        "    start_time = time.monotonic()\n",
        "\n",
        "    train_loss, train_acc = train(model, train_iterator, optimizer, criterion)\n",
        "    valid_loss, valid_acc = evaluate(model, valid_iterator, criterion)\n",
        "\n",
        "    end_time = time.monotonic()\n",
        "\n",
        "    epoch_mins, epoch_secs = epoch_time(start_time, end_time)\n",
        "\n",
        "    if valid_loss < best_valid_loss:\n",
        "        best_valid_loss = valid_loss\n",
        "        torch.save(model.state_dict(), 'model.pt')\n",
        "\n",
        "    print(f'Epoch: {epoch+1:02} | Epoch Time: {epoch_mins}m {epoch_secs}s')\n",
        "    print(f'\\tTrain Loss: {train_loss:.3f} | Train Acc: {train_acc*100:.2f}%')\n",
        "    print(f'\\t Val. Loss: {valid_loss:.3f} |  Val. Acc: {valid_acc*100:.2f}%')"
      ],
      "execution_count": 35,
      "outputs": [
        {
          "output_type": "stream",
          "name": "stderr",
          "text": [
            "We strongly recommend passing in an `attention_mask` since your input_ids may be padded. See https://huggingface.co/docs/transformers/troubleshooting#incorrect-output-when-padding-tokens-arent-masked.\n"
          ]
        },
        {
          "output_type": "stream",
          "name": "stdout",
          "text": [
            "Epoch: 01 | Epoch Time: 13m 57s\n",
            "\tTrain Loss: 0.486 | Train Acc: 75.59%\n",
            "\t Val. Loss: 0.264 |  Val. Acc: 89.48%\n",
            "Epoch: 02 | Epoch Time: 14m 13s\n",
            "\tTrain Loss: 0.281 | Train Acc: 88.74%\n",
            "\t Val. Loss: 0.227 |  Val. Acc: 91.11%\n"
          ]
        }
      ]
    },
    {
      "cell_type": "markdown",
      "source": [],
      "metadata": {
        "id": "i_tYryoRhl8v"
      }
    },
    {
      "cell_type": "markdown",
      "metadata": {
        "id": "PAPlc8NrXNGG"
      },
      "source": [
        "Load the best model parameters (measured in terms of validation loss) and evaluate the loss/accuracy on the test set."
      ]
    },
    {
      "cell_type": "code",
      "metadata": {
        "id": "lsSEKrTBXNGG",
        "colab": {
          "base_uri": "https://localhost:8080/"
        },
        "outputId": "98eae5bb-9f14-4f08-d690-8d932c812ee1"
      },
      "source": [
        "model.load_state_dict(torch.load('model.pt'))\n",
        "\n",
        "test_loss, test_acc = evaluate(model, test_iterator, criterion)\n",
        "\n",
        "print(f'Test Loss: {test_loss:.3f} | Test Acc: {test_acc*100:.2f}%')"
      ],
      "execution_count": 36,
      "outputs": [
        {
          "output_type": "stream",
          "name": "stdout",
          "text": [
            "Test Loss: 0.226 | Test Acc: 91.18%\n"
          ]
        }
      ]
    },
    {
      "cell_type": "markdown",
      "metadata": {
        "id": "tm5o8PRhXNGG"
      },
      "source": [
        "## Inference\n",
        "\n",
        "We'll then use the model to test the sentiment of some fake movie reviews. We tokenize the input sentence, trim it down to length=510, add the special start and end tokens to either side, convert it to a `LongTensor`, add a fake batch dimension using `unsqueeze`, and perform inference using our model."
      ]
    },
    {
      "cell_type": "code",
      "metadata": {
        "id": "_tHwJmTVXNGG"
      },
      "source": [
        "def predict_sentiment(model, tokenizer, sentence):\n",
        "    model.eval()\n",
        "    tokens = tokenizer.tokenize(sentence)\n",
        "    tokens = tokens[:max_input_length-2]\n",
        "    indexed = [init_token_idx] + tokenizer.convert_tokens_to_ids(tokens) + [eos_token_idx]\n",
        "    tensor = torch.LongTensor(indexed).to(device)\n",
        "    tensor = tensor.unsqueeze(0)\n",
        "    prediction = torch.sigmoid(model(tensor))\n",
        "    return prediction.item()"
      ],
      "execution_count": 37,
      "outputs": []
    },
    {
      "cell_type": "code",
      "metadata": {
        "id": "isBi_cZ-XNGG",
        "colab": {
          "base_uri": "https://localhost:8080/"
        },
        "outputId": "8ac1fde0-aa35-480b-b0ff-3e8262fed352"
      },
      "source": [
        "# Q4a. Perform sentiment analysis on the following two sentences.\n",
        "\n",
        "predict_sentiment(model, tokenizer, \"Justice League is terrible. I hated it.\")"
      ],
      "execution_count": 38,
      "outputs": [
        {
          "output_type": "execute_result",
          "data": {
            "text/plain": [
              "0.04586794599890709"
            ]
          },
          "metadata": {},
          "execution_count": 38
        }
      ]
    },
    {
      "cell_type": "code",
      "metadata": {
        "id": "JzjdRND0XNGG",
        "colab": {
          "base_uri": "https://localhost:8080/"
        },
        "outputId": "7020ef65-64c3-459b-bff8-ba3a17785bc2"
      },
      "source": [
        "predict_sentiment(model, tokenizer, \"Avengers was great!!\")"
      ],
      "execution_count": 39,
      "outputs": [
        {
          "output_type": "execute_result",
          "data": {
            "text/plain": [
              "0.934116780757904"
            ]
          },
          "metadata": {},
          "execution_count": 39
        }
      ]
    },
    {
      "cell_type": "markdown",
      "metadata": {
        "id": "kzkrFYjwCXfM"
      },
      "source": [
        "Great! Try playing around with two other movie reviews (you can grab some off the internet or make up text yourselves), and see whether your sentiment classifier is correctly capturing the mood of the review."
      ]
    },
    {
      "cell_type": "code",
      "metadata": {
        "id": "c_lAynXPGLn2",
        "colab": {
          "base_uri": "https://localhost:8080/"
        },
        "outputId": "dae64aaa-d7b7-46b9-c234-c984a74edd5c"
      },
      "source": [
        "# Q4b. Perform sentiment analysis on two other movie review fragments of your choice.\n",
        "review_text = \"At the end of the day, I suppose that's money well spent. That being said, I am a huge fan of many DreamWorks franchises, including the first 3 KFP films, with the 3rd installment being the weakest of them, but still a good time.\"\n",
        "predict_sentiment(model, tokenizer, review_text)"
      ],
      "execution_count": 41,
      "outputs": [
        {
          "output_type": "execute_result",
          "data": {
            "text/plain": [
              "0.9269459843635559"
            ]
          },
          "metadata": {},
          "execution_count": 41
        }
      ]
    },
    {
      "cell_type": "code",
      "source": [
        "# Let me remove the easy part 'At the end of the day, I suppose that's money well spent.'\n",
        "review_text = \"That being said, I am a huge fan of many DreamWorks franchises, including the first 3 KFP films, with the 3rd installment being the weakest of them, but still a good time.\"\n",
        "predict_sentiment(model, tokenizer, review_text)"
      ],
      "metadata": {
        "colab": {
          "base_uri": "https://localhost:8080/"
        },
        "id": "v6alvNo9f8FI",
        "outputId": "511f0e27-fa4b-4f8d-cae7-bab23efe0373"
      },
      "execution_count": 42,
      "outputs": [
        {
          "output_type": "execute_result",
          "data": {
            "text/plain": [
              "0.9269459843635559"
            ]
          },
          "metadata": {},
          "execution_count": 42
        }
      ]
    },
    {
      "cell_type": "markdown",
      "source": [
        "Found this fun review of the controversial film Poor Things"
      ],
      "metadata": {
        "id": "kjYV37C8guDp"
      }
    },
    {
      "cell_type": "markdown",
      "source": [
        "![image.png](data:image/png;base64,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)"
      ],
      "metadata": {
        "id": "j4Ajxt50go5W"
      }
    },
    {
      "cell_type": "markdown",
      "source": [
        "Let me try a few fun ones"
      ],
      "metadata": {
        "id": "j7Ntj3aAhFmV"
      }
    },
    {
      "cell_type": "code",
      "source": [
        "review_text = \"I was left thinking suddenly I no longer understand film for this to have scored so high.\"\n",
        "predict_sentiment(model, tokenizer, review_text)"
      ],
      "metadata": {
        "colab": {
          "base_uri": "https://localhost:8080/"
        },
        "id": "exsMkyr3gNjq",
        "outputId": "f4851ee8-c014-49fd-f598-3533751102f6"
      },
      "execution_count": 44,
      "outputs": [
        {
          "output_type": "execute_result",
          "data": {
            "text/plain": [
              "0.19604001939296722"
            ]
          },
          "metadata": {},
          "execution_count": 44
        }
      ]
    },
    {
      "cell_type": "code",
      "source": [
        "review_text = \"I'm not sure why this is deemed a comedy, it is much more a horror in the conventional sense.\"\n",
        "predict_sentiment(model, tokenizer, review_text)"
      ],
      "metadata": {
        "colab": {
          "base_uri": "https://localhost:8080/"
        },
        "id": "JrdcSQ4shUpX",
        "outputId": "e3bb4bdb-b860-4900-cc54-86194c84f90a"
      },
      "execution_count": 45,
      "outputs": [
        {
          "output_type": "execute_result",
          "data": {
            "text/plain": [
              "0.5154392719268799"
            ]
          },
          "metadata": {},
          "execution_count": 45
        }
      ]
    },
    {
      "cell_type": "code",
      "source": [],
      "metadata": {
        "id": "3c_DhGv_hfIZ"
      },
      "execution_count": null,
      "outputs": []
    }
  ]
}